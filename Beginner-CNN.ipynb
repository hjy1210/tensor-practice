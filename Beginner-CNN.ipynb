{
 "cells": [
  {
   "cell_type": "code",
   "execution_count": 1,
   "id": "c5976791",
   "metadata": {},
   "outputs": [
    {
     "name": "stdout",
     "output_type": "stream",
     "text": [
      "TensorFlow version: 2.9.1\n"
     ]
    }
   ],
   "source": [
    "import tensorflow as tf\n",
    "print(\"TensorFlow version:\", tf.__version__)"
   ]
  },
  {
   "cell_type": "code",
   "execution_count": 63,
   "id": "95281e82",
   "metadata": {},
   "outputs": [],
   "source": [
    "import numpy as np\n",
    "from matplotlib import pyplot as plt\n",
    "import cv2\n",
    "import os"
   ]
  },
  {
   "cell_type": "code",
   "execution_count": 10,
   "id": "44c78e74",
   "metadata": {},
   "outputs": [
    {
     "name": "stdout",
     "output_type": "stream",
     "text": [
      "(60000, 28, 28, 1) uint8\n",
      "tf.Tensor(\n",
      "[618   2   3   1   0   0   0   0   0   1   0   3   0   0   1   0   2   0\n",
      "   5   0   0   0   0   1   1   1   1   1   0   0   1   0   0   0   0   1\n",
      "   1   0   0   2   0   0   0   1   0   1   1   0   0   1   0   0   0   0\n",
      "   0   1   1   0   0   0   0   0   0   0   2   0   1   0   0   0   1   0\n",
      "   0   0   0   0   0   0   1   0   2   2   2   0   0   0   0   0   0   0\n",
      "   1   0   0   2   1   0   0   0   0   0   0   0   0   0   0   0   0   1\n",
      "   1   0   0   0   0   0   1   0   0   0   0   1   0   0   0   0   0   0\n",
      "   1   1   0   0   1   0   1   1   0   1   2   0   0   1   0   0   0   0\n",
      "   0   0   0   0   1   0   1   0   0   0   3   0   1   0   0   0   1   0\n",
      "   0   0   0   0   1   0   0   0   1   1   2   0   0   1   0   0   0   0\n",
      "   0   0   2   1   0   0   1   1   0   0   2   0   0   0   0   2   0   0\n",
      "   2   0   0   1   0   0   0   1   0   1   0   0   0   0   1   1   0   0\n",
      "   0   0   0   2   0   1   0   0   0   2   1   0   0   1   0   0   0   0\n",
      "   0   0   0   0   1   0   1   2   1   0   1   0   0   2   0   2   1   1\n",
      "   1  54   0   1], shape=(256,), dtype=int32)\n",
      "tf.Tensor(784, shape=(), dtype=int32)\n"
     ]
    }
   ],
   "source": [
    "mnist = tf.keras.datasets.mnist\n",
    "\n",
    "(x_train, y_train), (x_test, y_test) = mnist.load_data()\n",
    "x_train=np.reshape(x_train, x_train.shape+(1,))\n",
    "x_test=np.reshape(x_test, x_test.shape+(1,))\n",
    "print(x_train.shape,x_train.dtype)\n",
    "print(tf.math.bincount(x_train[0]))\n",
    "print(tf.reduce_sum(tf.math.bincount(x_train[0])))\n",
    "x_train, x_test = x_train / 255.0, x_test / 255.0"
   ]
  },
  {
   "cell_type": "code",
   "execution_count": 31,
   "id": "81e61109",
   "metadata": {},
   "outputs": [],
   "source": [
    "model = tf.keras.models.Sequential([\n",
    "  tf.keras.layers.Conv2D(input_shape= [28, 28, 1], kernel_size= 5, filters= 8, strides= 1, \n",
    "                   activation= 'relu',  kernel_initializer= 'variance_scaling'),\n",
    "  tf.keras.layers.MaxPooling2D(pool_size= [2, 2], strides= [2, 2]),\n",
    "  tf.keras.layers.Conv2D(kernel_size= 5, filters= 16, strides= 1, activation= 'relu', kernel_initializer= 'variance_scaling'),\n",
    "  tf.keras.layers.MaxPooling2D(pool_size= [2, 2], strides= [2, 2]),\n",
    "  tf.keras.layers.Flatten(),\n",
    "  tf.keras.layers.Dense(units= 10, kernel_initializer= 'variance_scaling')\n",
    "])"
   ]
  },
  {
   "cell_type": "code",
   "execution_count": 32,
   "id": "c373dba9",
   "metadata": {},
   "outputs": [],
   "source": [
    "loss_fn = tf.keras.losses.SparseCategoricalCrossentropy(from_logits=True)"
   ]
  },
  {
   "cell_type": "code",
   "execution_count": 33,
   "id": "929c3ab8",
   "metadata": {},
   "outputs": [],
   "source": [
    "model.compile(optimizer='adam', loss=loss_fn, metrics=['accuracy'])"
   ]
  },
  {
   "cell_type": "code",
   "execution_count": 34,
   "id": "94c5274c",
   "metadata": {},
   "outputs": [
    {
     "name": "stdout",
     "output_type": "stream",
     "text": [
      "Epoch 1/30\n",
      "1875/1875 [==============================] - 13s 6ms/step - loss: 0.2270 - accuracy: 0.9348\n",
      "Epoch 2/30\n",
      "1875/1875 [==============================] - 12s 6ms/step - loss: 0.0821 - accuracy: 0.9751\n",
      "Epoch 3/30\n",
      "1875/1875 [==============================] - 12s 6ms/step - loss: 0.0615 - accuracy: 0.9807\n",
      "Epoch 4/30\n",
      "1875/1875 [==============================] - 12s 6ms/step - loss: 0.0502 - accuracy: 0.9841\n",
      "Epoch 5/30\n",
      "1875/1875 [==============================] - 12s 6ms/step - loss: 0.0428 - accuracy: 0.9867\n",
      "Epoch 6/30\n",
      "1875/1875 [==============================] - 12s 6ms/step - loss: 0.0383 - accuracy: 0.9878\n",
      "Epoch 7/30\n",
      "1875/1875 [==============================] - 12s 6ms/step - loss: 0.0338 - accuracy: 0.9895\n",
      "Epoch 8/30\n",
      "1875/1875 [==============================] - 12s 6ms/step - loss: 0.0309 - accuracy: 0.9901\n",
      "Epoch 9/30\n",
      "1875/1875 [==============================] - 12s 6ms/step - loss: 0.0272 - accuracy: 0.9912\n",
      "Epoch 10/30\n",
      "1875/1875 [==============================] - 12s 6ms/step - loss: 0.0249 - accuracy: 0.9919\n",
      "Epoch 11/30\n",
      "1875/1875 [==============================] - 12s 6ms/step - loss: 0.0224 - accuracy: 0.9930\n",
      "Epoch 12/30\n",
      "1875/1875 [==============================] - 12s 6ms/step - loss: 0.0216 - accuracy: 0.9926\n",
      "Epoch 13/30\n",
      "1875/1875 [==============================] - 12s 6ms/step - loss: 0.0190 - accuracy: 0.9938\n",
      "Epoch 14/30\n",
      "1875/1875 [==============================] - 12s 6ms/step - loss: 0.0179 - accuracy: 0.9940\n",
      "Epoch 15/30\n",
      "1875/1875 [==============================] - 12s 6ms/step - loss: 0.0165 - accuracy: 0.9945\n",
      "Epoch 16/30\n",
      "1875/1875 [==============================] - 12s 6ms/step - loss: 0.0148 - accuracy: 0.9951\n",
      "Epoch 17/30\n",
      "1875/1875 [==============================] - 12s 6ms/step - loss: 0.0143 - accuracy: 0.9951\n",
      "Epoch 18/30\n",
      "1875/1875 [==============================] - 12s 6ms/step - loss: 0.0139 - accuracy: 0.9955\n",
      "Epoch 19/30\n",
      "1875/1875 [==============================] - 12s 6ms/step - loss: 0.0113 - accuracy: 0.9961\n",
      "Epoch 20/30\n",
      "1875/1875 [==============================] - 12s 6ms/step - loss: 0.0119 - accuracy: 0.9959\n",
      "Epoch 21/30\n",
      "1875/1875 [==============================] - 12s 6ms/step - loss: 0.0114 - accuracy: 0.9962\n",
      "Epoch 22/30\n",
      "1875/1875 [==============================] - 12s 6ms/step - loss: 0.0105 - accuracy: 0.9965\n",
      "Epoch 23/30\n",
      "1875/1875 [==============================] - 12s 6ms/step - loss: 0.0094 - accuracy: 0.9971\n",
      "Epoch 24/30\n",
      "1875/1875 [==============================] - 12s 6ms/step - loss: 0.0095 - accuracy: 0.9969\n",
      "Epoch 25/30\n",
      "1875/1875 [==============================] - 12s 6ms/step - loss: 0.0086 - accuracy: 0.9971\n",
      "Epoch 26/30\n",
      "1875/1875 [==============================] - 12s 6ms/step - loss: 0.0078 - accuracy: 0.9973\n",
      "Epoch 27/30\n",
      "1875/1875 [==============================] - 12s 6ms/step - loss: 0.0080 - accuracy: 0.9973\n",
      "Epoch 28/30\n",
      "1875/1875 [==============================] - 12s 6ms/step - loss: 0.0068 - accuracy: 0.9977\n",
      "Epoch 29/30\n",
      "1875/1875 [==============================] - 12s 6ms/step - loss: 0.0079 - accuracy: 0.9973\n",
      "Epoch 30/30\n",
      "1875/1875 [==============================] - 12s 6ms/step - loss: 0.0070 - accuracy: 0.9975\n"
     ]
    },
    {
     "data": {
      "text/plain": [
       "<keras.callbacks.History at 0x193ceac8d90>"
      ]
     },
     "execution_count": 34,
     "metadata": {},
     "output_type": "execute_result"
    }
   ],
   "source": [
    "model.fit(x_train, y_train, epochs=30)"
   ]
  },
  {
   "cell_type": "code",
   "execution_count": 35,
   "id": "740653f4",
   "metadata": {},
   "outputs": [
    {
     "name": "stdout",
     "output_type": "stream",
     "text": [
      "313/313 - 1s - loss: 0.0597 - accuracy: 0.9882 - 1s/epoch - 3ms/step\n"
     ]
    },
    {
     "data": {
      "text/plain": [
       "[0.05974585562944412, 0.9882000088691711]"
      ]
     },
     "execution_count": 35,
     "metadata": {},
     "output_type": "execute_result"
    }
   ],
   "source": [
    "model.evaluate(x_test,  y_test, verbose=2)"
   ]
  },
  {
   "cell_type": "code",
   "execution_count": 36,
   "id": "af0cade3",
   "metadata": {},
   "outputs": [],
   "source": [
    "probability_model = tf.keras.Sequential([\n",
    "  model,\n",
    "  tf.keras.layers.Softmax()\n",
    "])"
   ]
  },
  {
   "cell_type": "code",
   "execution_count": 55,
   "id": "8e84f7d8",
   "metadata": {},
   "outputs": [],
   "source": [
    "def predict(gray28s, print=False):\n",
    "    p=probability_model(gray28s)\n",
    "    if print:\n",
    "        print(p)\n",
    "    return np.argmax(p, axis=-1)"
   ]
  },
  {
   "cell_type": "code",
   "execution_count": 57,
   "id": "7ffc7480",
   "metadata": {},
   "outputs": [
    {
     "name": "stdout",
     "output_type": "stream",
     "text": [
      "6 6\n"
     ]
    },
    {
     "data": {
      "image/png": "[encoded data removed]",
      "text/plain": [
       "<Figure size 432x288 with 1 Axes>"
      ]
     },
     "metadata": {
      "needs_background": "light"
     },
     "output_type": "display_data"
    },
    {
     "name": "stdout",
     "output_type": "stream",
     "text": [
      "0 0\n"
     ]
    },
    {
     "data": {
      "image/png": "[encoded data removed]",
      "text/plain": [
       "<Figure size 432x288 with 1 Axes>"
      ]
     },
     "metadata": {
      "needs_background": "light"
     },
     "output_type": "display_data"
    },
    {
     "name": "stdout",
     "output_type": "stream",
     "text": [
      "5 5\n"
     ]
    },
    {
     "data": {
      "image/png": "[encoded data removed]",
      "text/plain": [
       "<Figure size 432x288 with 1 Axes>"
      ]
     },
     "metadata": {
      "needs_background": "light"
     },
     "output_type": "display_data"
    },
    {
     "name": "stdout",
     "output_type": "stream",
     "text": [
      "4 4\n"
     ]
    },
    {
     "data": {
      "image/png": "[encoded data removed]",
      "text/plain": [
       "<Figure size 432x288 with 1 Axes>"
      ]
     },
     "metadata": {
      "needs_background": "light"
     },
     "output_type": "display_data"
    },
    {
     "name": "stdout",
     "output_type": "stream",
     "text": [
      "9 9\n"
     ]
    },
    {
     "data": {
      "image/png": "[encoded data removed]",
      "text/plain": [
       "<Figure size 432x288 with 1 Axes>"
      ]
     },
     "metadata": {
      "needs_background": "light"
     },
     "output_type": "display_data"
    },
    {
     "name": "stdout",
     "output_type": "stream",
     "text": [
      "9 9\n"
     ]
    },
    {
     "data": {
      "image/png": "[encoded data removed]",
      "text/plain": [
       "<Figure size 432x288 with 1 Axes>"
      ]
     },
     "metadata": {
      "needs_background": "light"
     },
     "output_type": "display_data"
    },
    {
     "name": "stdout",
     "output_type": "stream",
     "text": [
      "2 2\n"
     ]
    },
    {
     "data": {
      "image/png": "[encoded data removed]",
      "text/plain": [
       "<Figure size 432x288 with 1 Axes>"
      ]
     },
     "metadata": {
      "needs_background": "light"
     },
     "output_type": "display_data"
    },
    {
     "name": "stdout",
     "output_type": "stream",
     "text": [
      "1 1\n"
     ]
    },
    {
     "data": {
      "image/png": "[encoded data removed]",
      "text/plain": [
       "<Figure size 432x288 with 1 Axes>"
      ]
     },
     "metadata": {
      "needs_background": "light"
     },
     "output_type": "display_data"
    },
    {
     "name": "stdout",
     "output_type": "stream",
     "text": [
      "9 9\n"
     ]
    },
    {
     "data": {
      "image/png": "[encoded data removed]",
      "text/plain": [
       "<Figure size 432x288 with 1 Axes>"
      ]
     },
     "metadata": {
      "needs_background": "light"
     },
     "output_type": "display_data"
    },
    {
     "name": "stdout",
     "output_type": "stream",
     "text": [
      "4 4\n"
     ]
    },
    {
     "data": {
      "image/png": "[encoded data removed]",
      "text/plain": [
       "<Figure size 432x288 with 1 Axes>"
      ]
     },
     "metadata": {
      "needs_background": "light"
     },
     "output_type": "display_data"
    }
   ],
   "source": [
    "start = 100\n",
    "v = predict(x_test[start:(start+10)])\n",
    "for i in range(start,start+10):\n",
    "    plt.imshow((x_test[i]*255).astype('uint8'), cmap=plt.cm.gray)\n",
    "    print(y_test[i], v[i-start])\n",
    "    plt.show()"
   ]
  },
  {
   "cell_type": "code",
   "execution_count": 43,
   "id": "bc524516",
   "metadata": {},
   "outputs": [],
   "source": [
    "def mypredict(imgname):\n",
    "    myimg = cv2.imread(imgname, cv2.IMREAD_UNCHANGED)\n",
    "    gray = cv2.cvtColor(myimg, cv2.COLOR_BGRA2GRAY)\n",
    "    gray28 = cv2.resize(gray, (28,28), interpolation = cv2.INTER_AREA)\n",
    "    gray28 = np.reshape(gray28, (28,28,1))\n",
    "    d = predict(np.array([gray28/255.0]))[0]\n",
    "    print(imgname, d)"
   ]
  },
  {
   "cell_type": "code",
   "execution_count": 44,
   "id": "88c4de07",
   "metadata": {},
   "outputs": [
    {
     "name": "stdout",
     "output_type": "stream",
     "text": [
      "tf.Tensor(\n",
      "[[3.2953371e-23 1.2692146e-10 1.0599801e-08 1.0000000e+00 2.8250805e-21\n",
      "  8.3100248e-14 7.0443065e-25 1.3442399e-17 1.1702754e-09 1.0498569e-09]], shape=(1, 10), dtype=float32)\n",
      "b-three-5w.jpg 3\n"
     ]
    }
   ],
   "source": [
    "mypredict(\"b-three-5w.jpg\")"
   ]
  },
  {
   "cell_type": "code",
   "execution_count": 58,
   "id": "c448528e",
   "metadata": {},
   "outputs": [
    {
     "name": "stdout",
     "output_type": "stream",
     "text": [
      "b-zero-fat.png 0\n",
      "b-one-fat.png 1\n",
      "b-two-fat.png 2\n",
      "b-three-fat.png 3\n",
      "b-four-fat.png 4\n",
      "b-five-fat.png 5\n",
      "b-six-fat.png 6\n",
      "b-seven-fat.png 1\n",
      "b-eight-fat.png 8\n",
      "b-nine-fat.png 9\n"
     ]
    }
   ],
   "source": [
    "for name in [\"b-zero-fat.png\",\"b-one-fat.png\",\"b-two-fat.png\",\"b-three-fat.png\",\"b-four-fat.png\",\"b-five-fat.png\",\"b-six-fat.png\",\"b-seven-fat.png\",\"b-eight-fat.png\",\"b-nine-fat.png\"]:\n",
    "    mypredict(name)"
   ]
  },
  {
   "cell_type": "code",
   "execution_count": 62,
   "id": "8ad0f70b",
   "metadata": {},
   "outputs": [
    {
     "name": "stdout",
     "output_type": "stream",
     "text": [
      "four.png 3\n",
      "four.jpg 3\n",
      "seven.jpg 4\n",
      "b-seven-fat.png 1\n",
      "b-seven-fat-2.png 7\n",
      "b-seven-fat-3.png 7\n",
      "b-seven-fat-4.png 7\n",
      "b-seven-fat-5.png 7\n"
     ]
    }
   ],
   "source": [
    "for name in [\"four.png\", \"four.jpg\", \"seven.jpg\",\"b-seven-fat.png\",\"b-seven-fat-2.png\",\"b-seven-fat-3.png\",\"b-seven-fat-4.png\",\"b-seven-fat-5.png\"]:\n",
    "    mypredict(name)"
   ]
  },
  {
   "cell_type": "code",
   "execution_count": 74,
   "id": "fd8f2b38",
   "metadata": {},
   "outputs": [
    {
     "name": "stdout",
     "output_type": "stream",
     "text": [
      "b-eight.png 8\n",
      "b-five-fat.png 5\n",
      "b-four-1.png 4\n",
      "b-four-fat.png 4\n",
      "b-four.png 4\n",
      "b-nine-fat-2.png 7\n",
      "b-nine-fat-3.png 9\n",
      "b-nine-fat-4.png 9\n",
      "b-nine-fat-5.png 9\n",
      "b-nine-fat.png 9\n",
      "b-one-fat.png 1\n",
      "b-seven-fat-2.png 7\n",
      "b-seven-fat-3.png 7\n",
      "b-seven-fat-4.png 7\n",
      "b-seven-fat-5.png 7\n",
      "b-seven-fat.png 1\n",
      "b-six-1.png 6\n",
      "b-six-2.png 5\n",
      "b-six-fat.png 6\n",
      "b-six.png 5\n",
      "b-three-fat.png 3\n",
      "b-three.png 3\n",
      "b-two-fat.png 2\n",
      "b-zero-fat.png 0\n"
     ]
    }
   ],
   "source": [
    "for name in [\"b-eight.png\",\"b-five-fat.png\",\"b-four-1.png\",\"b-four-fat.png\",\"b-four.png\",\"b-nine-fat-2.png\",\"b-nine-fat-3.png\",\n",
    "    \"b-nine-fat-4.png\",\"b-nine-fat-5.png\",\"b-nine-fat.png\",\"b-one-fat.png\",\"b-seven-fat-2.png\",\"b-seven-fat-3.png\",\n",
    "    \"b-seven-fat-4.png\",\"b-seven-fat-5.png\",\"b-seven-fat.png\",\"b-six-1.png\",\"b-six-2.png\",\"b-six-fat.png\",\"b-six.png\",\n",
    "    \"b-three-fat.png\",\"b-three.png\",\"b-two-fat.png\",\"b-zero-fat.png\"]:\n",
    "    mypredict(name)\n"
   ]
  },
  {
   "cell_type": "code",
   "execution_count": null,
   "id": "355acb9d",
   "metadata": {},
   "outputs": [],
   "source": []
  }
 ],
 "metadata": {
  "kernelspec": {
   "display_name": "Python 3 (ipykernel)",
   "language": "python",
   "name": "python3"
  },
  "language_info": {
   "codemirror_mode": {
    "name": "ipython",
    "version": 3
   },
   "file_extension": ".py",
   "mimetype": "text/x-python",
   "name": "python",
   "nbconvert_exporter": "python",
   "pygments_lexer": "ipython3",
   "version": "3.10.4"
  }
 },
 "nbformat": 4,
 "nbformat_minor": 5
}
