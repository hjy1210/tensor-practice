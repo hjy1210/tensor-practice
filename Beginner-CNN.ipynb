{
 "cells": [
  {
   "cell_type": "markdown",
   "id": "c6cc469a",
   "metadata": {},
   "source": [
    "# CNN\n",
    "[Save and Load](https://www.tensorflow.org/tutorials/keras/save_and_load)"
   ]
  },
  {
   "cell_type": "code",
   "execution_count": 1,
   "id": "c5976791",
   "metadata": {},
   "outputs": [
    {
     "name": "stdout",
     "output_type": "stream",
     "text": [
      "TensorFlow version: 2.6.2\n"
     ]
    }
   ],
   "source": [
    "import tensorflow as tf\n",
    "print(\"TensorFlow version:\", tf.__version__)"
   ]
  },
  {
   "cell_type": "code",
   "execution_count": 2,
   "id": "95281e82",
   "metadata": {},
   "outputs": [],
   "source": [
    "import numpy as np\n",
    "from matplotlib import pyplot as plt\n",
    "import cv2\n",
    "import os"
   ]
  },
  {
   "cell_type": "code",
   "execution_count": 3,
   "id": "44c78e74",
   "metadata": {},
   "outputs": [
    {
     "name": "stdout",
     "output_type": "stream",
     "text": [
      "(60000, 28, 28, 1) uint8\n",
      "tf.Tensor(\n",
      "[618   2   3   1   0   0   0   0   0   1   0   3   0   0   1   0   2   0\n",
      "   5   0   0   0   0   1   1   1   1   1   0   0   1   0   0   0   0   1\n",
      "   1   0   0   2   0   0   0   1   0   1   1   0   0   1   0   0   0   0\n",
      "   0   1   1   0   0   0   0   0   0   0   2   0   1   0   0   0   1   0\n",
      "   0   0   0   0   0   0   1   0   2   2   2   0   0   0   0   0   0   0\n",
      "   1   0   0   2   1   0   0   0   0   0   0   0   0   0   0   0   0   1\n",
      "   1   0   0   0   0   0   1   0   0   0   0   1   0   0   0   0   0   0\n",
      "   1   1   0   0   1   0   1   1   0   1   2   0   0   1   0   0   0   0\n",
      "   0   0   0   0   1   0   1   0   0   0   3   0   1   0   0   0   1   0\n",
      "   0   0   0   0   1   0   0   0   1   1   2   0   0   1   0   0   0   0\n",
      "   0   0   2   1   0   0   1   1   0   0   2   0   0   0   0   2   0   0\n",
      "   2   0   0   1   0   0   0   1   0   1   0   0   0   0   1   1   0   0\n",
      "   0   0   0   2   0   1   0   0   0   2   1   0   0   1   0   0   0   0\n",
      "   0   0   0   0   1   0   1   2   1   0   1   0   0   2   0   2   1   1\n",
      "   1  54   0   1], shape=(256,), dtype=int32)\n",
      "tf.Tensor(784, shape=(), dtype=int32)\n"
     ]
    }
   ],
   "source": [
    "mnist = tf.keras.datasets.mnist\n",
    "\n",
    "(x_train, y_train), (x_test, y_test) = mnist.load_data()\n",
    "x_train=np.reshape(x_train, x_train.shape+(1,))\n",
    "x_test=np.reshape(x_test, x_test.shape+(1,))\n",
    "print(x_train.shape,x_train.dtype)\n",
    "print(tf.math.bincount(x_train[0]))\n",
    "print(tf.reduce_sum(tf.math.bincount(x_train[0])))\n",
    "x_train, x_test = x_train / 255.0, x_test / 255.0"
   ]
  },
  {
   "cell_type": "code",
   "execution_count": 5,
   "id": "355acb9d",
   "metadata": {},
   "outputs": [],
   "source": [
    "def create_model():\n",
    "    model = tf.keras.models.Sequential([\n",
    "        tf.keras.layers.Conv2D(input_shape= [28, 28, 1], kernel_size= 5, filters= 8, strides= 1, \n",
    "                   activation= 'relu',  kernel_initializer= 'variance_scaling'),\n",
    "        tf.keras.layers.MaxPooling2D(pool_size= [2, 2], strides= [2, 2]),\n",
    "        tf.keras.layers.Conv2D(kernel_size= 5, filters= 16, strides= 1, activation= 'relu', kernel_initializer= 'variance_scaling'),\n",
    "        tf.keras.layers.MaxPooling2D(pool_size= [2, 2], strides= [2, 2]),\n",
    "        tf.keras.layers.Flatten(),\n",
    "        tf.keras.layers.Dense(units= 10, kernel_initializer= 'variance_scaling')\n",
    "    ])\n",
    "    model.compile(optimizer = 'adam', \n",
    "                  loss = tf.keras.losses.SparseCategoricalCrossentropy(from_logits=True), \n",
    "                  metrics = ['accuracy'])\n",
    "    return model"
   ]
  },
  {
   "cell_type": "raw",
   "id": "f947c78f",
   "metadata": {},
   "source": [
    "model = tf.keras.models.Sequential([\n",
    "  tf.keras.layers.Conv2D(input_shape= [28, 28, 1], kernel_size= 5, filters= 8, strides= 1, \n",
    "                   activation= 'relu',  kernel_initializer= 'variance_scaling'),\n",
    "  tf.keras.layers.MaxPooling2D(pool_size= [2, 2], strides= [2, 2]),\n",
    "  tf.keras.layers.Conv2D(kernel_size= 5, filters= 16, strides= 1, activation= 'relu', kernel_initializer= 'variance_scaling'),\n",
    "  tf.keras.layers.MaxPooling2D(pool_size= [2, 2], strides= [2, 2]),\n",
    "  tf.keras.layers.Flatten(),\n",
    "  tf.keras.layers.Dense(units= 10, kernel_initializer= 'variance_scaling')\n",
    "])"
   ]
  },
  {
   "cell_type": "raw",
   "id": "0c482be2",
   "metadata": {},
   "source": [
    "loss_fn = tf.keras.losses.SparseCategoricalCrossentropy(from_logits=True)"
   ]
  },
  {
   "cell_type": "raw",
   "id": "c53d549f",
   "metadata": {},
   "source": [
    "model.compile(optimizer='adam', loss=loss_fn, metrics=['accuracy'])"
   ]
  },
  {
   "cell_type": "code",
   "execution_count": 6,
   "id": "5763de8a",
   "metadata": {},
   "outputs": [],
   "source": [
    "model = create_model()"
   ]
  },
  {
   "cell_type": "code",
   "execution_count": 7,
   "id": "94c5274c",
   "metadata": {},
   "outputs": [
    {
     "name": "stdout",
     "output_type": "stream",
     "text": [
      "Epoch 1/30\n",
      "1875/1875 [==============================] - 10s 5ms/step - loss: 0.2155 - accuracy: 0.9369\n",
      "Epoch 2/30\n",
      "1875/1875 [==============================] - 10s 5ms/step - loss: 0.0717 - accuracy: 0.9779\n",
      "Epoch 3/30\n",
      "1875/1875 [==============================] - 10s 5ms/step - loss: 0.0534 - accuracy: 0.9840\n",
      "Epoch 4/30\n",
      "1875/1875 [==============================] - 10s 5ms/step - loss: 0.0437 - accuracy: 0.9866\n",
      "Epoch 5/30\n",
      "1875/1875 [==============================] - 10s 5ms/step - loss: 0.0375 - accuracy: 0.9885\n",
      "Epoch 6/30\n",
      "1875/1875 [==============================] - 10s 5ms/step - loss: 0.0323 - accuracy: 0.9895\n",
      "Epoch 7/30\n",
      "1875/1875 [==============================] - 10s 5ms/step - loss: 0.0282 - accuracy: 0.9910\n",
      "Epoch 8/30\n",
      "1875/1875 [==============================] - 10s 5ms/step - loss: 0.0249 - accuracy: 0.9919\n",
      "Epoch 9/30\n",
      "1875/1875 [==============================] - 10s 5ms/step - loss: 0.0223 - accuracy: 0.9931\n",
      "Epoch 10/30\n",
      "1875/1875 [==============================] - 10s 5ms/step - loss: 0.0199 - accuracy: 0.9936\n",
      "Epoch 11/30\n",
      "1875/1875 [==============================] - 10s 5ms/step - loss: 0.0184 - accuracy: 0.9939\n",
      "Epoch 12/30\n",
      "1875/1875 [==============================] - 10s 5ms/step - loss: 0.0175 - accuracy: 0.9941\n",
      "Epoch 13/30\n",
      "1875/1875 [==============================] - 10s 5ms/step - loss: 0.0149 - accuracy: 0.9952\n",
      "Epoch 14/30\n",
      "1875/1875 [==============================] - 10s 5ms/step - loss: 0.0132 - accuracy: 0.9957\n",
      "Epoch 15/30\n",
      "1875/1875 [==============================] - 10s 5ms/step - loss: 0.0131 - accuracy: 0.9954\n",
      "Epoch 16/30\n",
      "1875/1875 [==============================] - 10s 5ms/step - loss: 0.0121 - accuracy: 0.9961\n",
      "Epoch 17/30\n",
      "1875/1875 [==============================] - 10s 5ms/step - loss: 0.0108 - accuracy: 0.9960\n",
      "Epoch 18/30\n",
      "1875/1875 [==============================] - 10s 5ms/step - loss: 0.0109 - accuracy: 0.9965\n",
      "Epoch 19/30\n",
      "1875/1875 [==============================] - 10s 5ms/step - loss: 0.0098 - accuracy: 0.9966\n",
      "Epoch 20/30\n",
      "1875/1875 [==============================] - 10s 5ms/step - loss: 0.0091 - accuracy: 0.9970\n",
      "Epoch 21/30\n",
      "1875/1875 [==============================] - 11s 6ms/step - loss: 0.0082 - accuracy: 0.9975\n",
      "Epoch 22/30\n",
      "1875/1875 [==============================] - 11s 6ms/step - loss: 0.0081 - accuracy: 0.9973\n",
      "Epoch 23/30\n",
      "1875/1875 [==============================] - 10s 5ms/step - loss: 0.0073 - accuracy: 0.9976\n",
      "Epoch 24/30\n",
      "1875/1875 [==============================] - 10s 6ms/step - loss: 0.0075 - accuracy: 0.9974\n",
      "Epoch 25/30\n",
      "1875/1875 [==============================] - 10s 5ms/step - loss: 0.0072 - accuracy: 0.9973\n",
      "Epoch 26/30\n",
      "1875/1875 [==============================] - 10s 5ms/step - loss: 0.0062 - accuracy: 0.9978\n",
      "Epoch 27/30\n",
      "1875/1875 [==============================] - 10s 5ms/step - loss: 0.0057 - accuracy: 0.9980\n",
      "Epoch 28/30\n",
      "1875/1875 [==============================] - 10s 5ms/step - loss: 0.0058 - accuracy: 0.9980\n",
      "Epoch 29/30\n",
      "1875/1875 [==============================] - 10s 5ms/step - loss: 0.0059 - accuracy: 0.9979\n",
      "Epoch 30/30\n",
      "1875/1875 [==============================] - 10s 5ms/step - loss: 0.0052 - accuracy: 0.9983\n"
     ]
    },
    {
     "data": {
      "text/plain": [
       "<keras.callbacks.History at 0x2040a90eef0>"
      ]
     },
     "execution_count": 7,
     "metadata": {},
     "output_type": "execute_result"
    }
   ],
   "source": [
    "model.fit(x_train, y_train, epochs=30)"
   ]
  },
  {
   "cell_type": "code",
   "execution_count": 8,
   "id": "740653f4",
   "metadata": {},
   "outputs": [
    {
     "name": "stdout",
     "output_type": "stream",
     "text": [
      "313/313 - 1s - loss: 0.0524 - accuracy: 0.9891 - 961ms/epoch - 3ms/step\n"
     ]
    },
    {
     "data": {
      "text/plain": [
       "[0.05237219110131264, 0.9890999794006348]"
      ]
     },
     "execution_count": 8,
     "metadata": {},
     "output_type": "execute_result"
    }
   ],
   "source": [
    "model.evaluate(x_test,  y_test, verbose=2)"
   ]
  },
  {
   "cell_type": "code",
   "execution_count": 9,
   "id": "a919d5e2",
   "metadata": {},
   "outputs": [
    {
     "name": "stdout",
     "output_type": "stream",
     "text": [
      "313/313 - 1s - loss: 2.4360 - accuracy: 0.2247 - 1s/epoch - 3ms/step\n"
     ]
    },
    {
     "data": {
      "text/plain": [
       "[2.4359898567199707, 0.22470000386238098]"
      ]
     },
     "execution_count": 9,
     "metadata": {},
     "output_type": "execute_result"
    }
   ],
   "source": [
    "model = create_model()\n",
    "model.evaluate(x_test,  y_test, verbose=2)"
   ]
  },
  {
   "cell_type": "code",
   "execution_count": 10,
   "id": "ea97a290",
   "metadata": {},
   "outputs": [
    {
     "name": "stdout",
     "output_type": "stream",
     "text": [
      "313/313 - 1s - loss: 0.0531 - accuracy: 0.9899 - 873ms/epoch - 3ms/step\n"
     ]
    },
    {
     "data": {
      "text/plain": [
       "[0.05312630534172058, 0.9898999929428101]"
      ]
     },
     "execution_count": 10,
     "metadata": {},
     "output_type": "execute_result"
    }
   ],
   "source": [
    "model.load_weights('./checkpoints/cnn_checkpoint')\n",
    "model.evaluate(x_test,  y_test, verbose=2)"
   ]
  },
  {
   "cell_type": "code",
   "execution_count": 11,
   "id": "af0cade3",
   "metadata": {},
   "outputs": [],
   "source": [
    "probability_model = tf.keras.Sequential([\n",
    "  model,\n",
    "  tf.keras.layers.Softmax()\n",
    "])"
   ]
  },
  {
   "cell_type": "code",
   "execution_count": 12,
   "id": "8e84f7d8",
   "metadata": {},
   "outputs": [],
   "source": [
    "def predict(gray28s, print=False):\n",
    "    p=probability_model(gray28s)\n",
    "    if print:\n",
    "        print(p)\n",
    "    return np.argmax(p, axis=-1)"
   ]
  },
  {
   "cell_type": "code",
   "execution_count": 13,
   "id": "7ffc7480",
   "metadata": {},
   "outputs": [
    {
     "name": "stdout",
     "output_type": "stream",
     "text": [
      "6 6\n"
     ]
    },
    {
     "data": {
      "image/png": "[encoded data removed]",
      "text/plain": [
       "<Figure size 432x288 with 1 Axes>"
      ]
     },
     "metadata": {
      "needs_background": "light"
     },
     "output_type": "display_data"
    },
    {
     "name": "stdout",
     "output_type": "stream",
     "text": [
      "0 0\n"
     ]
    },
    {
     "data": {
      "image/png": "[encoded data removed]",
      "text/plain": [
       "<Figure size 432x288 with 1 Axes>"
      ]
     },
     "metadata": {
      "needs_background": "light"
     },
     "output_type": "display_data"
    },
    {
     "name": "stdout",
     "output_type": "stream",
     "text": [
      "5 5\n"
     ]
    },
    {
     "data": {
      "image/png": "[encoded data removed]",
      "text/plain": [
       "<Figure size 432x288 with 1 Axes>"
      ]
     },
     "metadata": {
      "needs_background": "light"
     },
     "output_type": "display_data"
    },
    {
     "name": "stdout",
     "output_type": "stream",
     "text": [
      "4 4\n"
     ]
    },
    {
     "data": {
      "image/png": "[encoded data removed]",
      "text/plain": [
       "<Figure size 432x288 with 1 Axes>"
      ]
     },
     "metadata": {
      "needs_background": "light"
     },
     "output_type": "display_data"
    },
    {
     "name": "stdout",
     "output_type": "stream",
     "text": [
      "9 9\n"
     ]
    },
    {
     "data": {
      "image/png": "[encoded data removed]",
      "text/plain": [
       "<Figure size 432x288 with 1 Axes>"
      ]
     },
     "metadata": {
      "needs_background": "light"
     },
     "output_type": "display_data"
    },
    {
     "name": "stdout",
     "output_type": "stream",
     "text": [
      "9 9\n"
     ]
    },
    {
     "data": {
      "image/png": "[encoded data removed]",
      "text/plain": [
       "<Figure size 432x288 with 1 Axes>"
      ]
     },
     "metadata": {
      "needs_background": "light"
     },
     "output_type": "display_data"
    },
    {
     "name": "stdout",
     "output_type": "stream",
     "text": [
      "2 2\n"
     ]
    },
    {
     "data": {
      "image/png": "[encoded data removed]",
      "text/plain": [
       "<Figure size 432x288 with 1 Axes>"
      ]
     },
     "metadata": {
      "needs_background": "light"
     },
     "output_type": "display_data"
    },
    {
     "name": "stdout",
     "output_type": "stream",
     "text": [
      "1 1\n"
     ]
    },
    {
     "data": {
      "image/png": "[encoded data removed]",
      "text/plain": [
       "<Figure size 432x288 with 1 Axes>"
      ]
     },
     "metadata": {
      "needs_background": "light"
     },
     "output_type": "display_data"
    },
    {
     "name": "stdout",
     "output_type": "stream",
     "text": [
      "9 9\n"
     ]
    },
    {
     "data": {
      "image/png": "[encoded data removed]",
      "text/plain": [
       "<Figure size 432x288 with 1 Axes>"
      ]
     },
     "metadata": {
      "needs_background": "light"
     },
     "output_type": "display_data"
    },
    {
     "name": "stdout",
     "output_type": "stream",
     "text": [
      "4 4\n"
     ]
    },
    {
     "data": {
      "image/png": "[encoded data removed]",
      "text/plain": [
       "<Figure size 432x288 with 1 Axes>"
      ]
     },
     "metadata": {
      "needs_background": "light"
     },
     "output_type": "display_data"
    }
   ],
   "source": [
    "start = 100\n",
    "v = predict(x_test[start:(start+10)])\n",
    "for i in range(start,start+10):\n",
    "    plt.imshow((x_test[i]*255).astype('uint8'), cmap=plt.cm.gray)\n",
    "    print(y_test[i], v[i-start])\n",
    "    plt.show()"
   ]
  },
  {
   "cell_type": "code",
   "execution_count": 14,
   "id": "bc524516",
   "metadata": {},
   "outputs": [],
   "source": [
    "def mypredict(imgname):\n",
    "    myimg = cv2.imread(imgname, cv2.IMREAD_UNCHANGED)\n",
    "    gray = cv2.cvtColor(myimg, cv2.COLOR_BGRA2GRAY)\n",
    "    gray28 = cv2.resize(gray, (28,28), interpolation = cv2.INTER_AREA)\n",
    "    gray28 = np.reshape(gray28, (28,28,1))\n",
    "    d = predict(np.array([gray28/255.0]))[0]\n",
    "    print(imgname, d)"
   ]
  },
  {
   "cell_type": "code",
   "execution_count": 15,
   "id": "88c4de07",
   "metadata": {},
   "outputs": [
    {
     "name": "stdout",
     "output_type": "stream",
     "text": [
      "b-three-5w.jpg 3\n"
     ]
    }
   ],
   "source": [
    "mypredict(\"b-three-5w.jpg\")"
   ]
  },
  {
   "cell_type": "code",
   "execution_count": 16,
   "id": "c448528e",
   "metadata": {},
   "outputs": [
    {
     "name": "stdout",
     "output_type": "stream",
     "text": [
      "b-zero-fat.png 0\n",
      "b-one-fat.png 1\n",
      "b-two-fat.png 2\n",
      "b-three-fat.png 3\n",
      "b-four-fat.png 4\n",
      "b-five-fat.png 5\n",
      "b-six-fat.png 6\n",
      "b-seven-fat.png 7\n",
      "b-eight-fat.png 8\n",
      "b-nine-fat.png 9\n"
     ]
    }
   ],
   "source": [
    "for name in [\"b-zero-fat.png\",\"b-one-fat.png\",\"b-two-fat.png\",\"b-three-fat.png\",\"b-four-fat.png\",\"b-five-fat.png\",\"b-six-fat.png\",\"b-seven-fat.png\",\"b-eight-fat.png\",\"b-nine-fat.png\"]:\n",
    "    mypredict(name)"
   ]
  },
  {
   "cell_type": "code",
   "execution_count": 17,
   "id": "8ad0f70b",
   "metadata": {},
   "outputs": [
    {
     "name": "stdout",
     "output_type": "stream",
     "text": [
      "four.png 5\n",
      "four.jpg 9\n",
      "seven.jpg 7\n",
      "b-seven-fat.png 7\n",
      "b-seven-fat-2.png 7\n",
      "b-seven-fat-3.png 7\n",
      "b-seven-fat-4.png 7\n",
      "b-seven-fat-5.png 7\n"
     ]
    }
   ],
   "source": [
    "for name in [\"four.png\", \"four.jpg\", \"seven.jpg\",\"b-seven-fat.png\",\"b-seven-fat-2.png\",\"b-seven-fat-3.png\",\"b-seven-fat-4.png\",\"b-seven-fat-5.png\"]:\n",
    "    mypredict(name)"
   ]
  },
  {
   "cell_type": "code",
   "execution_count": 18,
   "id": "fd8f2b38",
   "metadata": {},
   "outputs": [
    {
     "name": "stdout",
     "output_type": "stream",
     "text": [
      "b-eight.png 8\n",
      "b-five-fat.png 5\n",
      "b-four-1.png 4\n",
      "b-four-fat.png 4\n",
      "b-four.png 4\n",
      "b-nine-fat-2.png 9\n",
      "b-nine-fat-3.png 9\n",
      "b-nine-fat-4.png 9\n",
      "b-nine-fat-5.png 9\n",
      "b-nine-fat.png 9\n",
      "b-one-fat.png 1\n",
      "b-seven-fat-2.png 7\n",
      "b-seven-fat-3.png 7\n",
      "b-seven-fat-4.png 7\n",
      "b-seven-fat-5.png 7\n",
      "b-seven-fat.png 7\n",
      "b-six-1.png 6\n",
      "b-six-2.png 6\n",
      "b-six-fat.png 6\n",
      "b-six.png 6\n",
      "b-three-fat.png 3\n",
      "b-three.png 3\n",
      "b-two-fat.png 2\n",
      "b-zero-fat.png 0\n"
     ]
    }
   ],
   "source": [
    "for name in [\"b-eight.png\",\"b-five-fat.png\",\"b-four-1.png\",\"b-four-fat.png\",\"b-four.png\",\"b-nine-fat-2.png\",\"b-nine-fat-3.png\",\n",
    "    \"b-nine-fat-4.png\",\"b-nine-fat-5.png\",\"b-nine-fat.png\",\"b-one-fat.png\",\"b-seven-fat-2.png\",\"b-seven-fat-3.png\",\n",
    "    \"b-seven-fat-4.png\",\"b-seven-fat-5.png\",\"b-seven-fat.png\",\"b-six-1.png\",\"b-six-2.png\",\"b-six-fat.png\",\"b-six.png\",\n",
    "    \"b-three-fat.png\",\"b-three.png\",\"b-two-fat.png\",\"b-zero-fat.png\"]:\n",
    "    mypredict(name)\n"
   ]
  },
  {
   "cell_type": "markdown",
   "id": "0f1ae4d7",
   "metadata": {},
   "source": [
    "## 參數存檔\n",
    "同一個network架構下，用save_weights將參數存起來。用load_weights載入參數，可以繼續訓練或直接開始進行智慧分類。"
   ]
  },
  {
   "cell_type": "code",
   "execution_count": null,
   "id": "9692c4d3",
   "metadata": {},
   "outputs": [],
   "source": [
    "model.save_weights('./checkpoints/cnn_checkpoint')"
   ]
  },
  {
   "cell_type": "code",
   "execution_count": null,
   "id": "cf610146",
   "metadata": {},
   "outputs": [],
   "source": [
    "model = create_model()\n",
    "model.load_weights('./checkpoints/cnn_checkpoint')"
   ]
  },
  {
   "cell_type": "markdown",
   "id": "92f7b2fc",
   "metadata": {},
   "source": [
    "## SaveModel 格式\n",
    "用 model.save將整個network的架構跟參數全部存起來。以後可以用tf.keras.models.load_model載入訓練好的newwork進行分類。\n",
    "\n",
    "可以用與 tensorflow.js 搭配，在瀏覽器上進行分類。"
   ]
  },
  {
   "cell_type": "code",
   "execution_count": null,
   "id": "2bfc5768",
   "metadata": {},
   "outputs": [],
   "source": [
    "probability_model.save('saved_model/cnn_probability_model')"
   ]
  },
  {
   "cell_type": "code",
   "execution_count": 3,
   "id": "ac010d61",
   "metadata": {},
   "outputs": [
    {
     "name": "stdout",
     "output_type": "stream",
     "text": [
      "WARNING:tensorflow:No training configuration found in save file, so the model was *not* compiled. Compile it manually.\n"
     ]
    }
   ],
   "source": [
    "new_prob_model = tf.keras.models.load_model('saved_model/cnn_probability_model')\n"
   ]
  },
  {
   "cell_type": "code",
   "execution_count": 4,
   "id": "738a81d0",
   "metadata": {},
   "outputs": [],
   "source": [
    "def modelpredict(model, gray28s, print=False):\n",
    "    p=model(gray28s)\n",
    "    if print:\n",
    "        print(p)\n",
    "    return np.argmax(p, axis=-1)"
   ]
  },
  {
   "cell_type": "code",
   "execution_count": 23,
   "id": "d57dbfe0",
   "metadata": {},
   "outputs": [
    {
     "name": "stdout",
     "output_type": "stream",
     "text": [
      "9 9\n"
     ]
    },
    {
     "data": {
      "image/png": "[encoded data removed]",
      "text/plain": [
       "<Figure size 432x288 with 1 Axes>"
      ]
     },
     "metadata": {
      "needs_background": "light"
     },
     "output_type": "display_data"
    },
    {
     "name": "stdout",
     "output_type": "stream",
     "text": [
      "0 0\n"
     ]
    },
    {
     "data": {
      "image/png": "[encoded data removed]",
      "text/plain": [
       "<Figure size 432x288 with 1 Axes>"
      ]
     },
     "metadata": {
      "needs_background": "light"
     },
     "output_type": "display_data"
    },
    {
     "name": "stdout",
     "output_type": "stream",
     "text": [
      "2 2\n"
     ]
    },
    {
     "data": {
      "image/png": "[encoded data removed]",
      "text/plain": [
       "<Figure size 432x288 with 1 Axes>"
      ]
     },
     "metadata": {
      "needs_background": "light"
     },
     "output_type": "display_data"
    },
    {
     "name": "stdout",
     "output_type": "stream",
     "text": [
      "5 5\n"
     ]
    },
    {
     "data": {
      "image/png": "[encoded data removed]",
      "text/plain": [
       "<Figure size 432x288 with 1 Axes>"
      ]
     },
     "metadata": {
      "needs_background": "light"
     },
     "output_type": "display_data"
    },
    {
     "name": "stdout",
     "output_type": "stream",
     "text": [
      "1 1\n"
     ]
    },
    {
     "data": {
      "image/png": "[encoded data removed]",
      "text/plain": [
       "<Figure size 432x288 with 1 Axes>"
      ]
     },
     "metadata": {
      "needs_background": "light"
     },
     "output_type": "display_data"
    },
    {
     "name": "stdout",
     "output_type": "stream",
     "text": [
      "9 9\n"
     ]
    },
    {
     "data": {
      "image/png": "[encoded data removed]",
      "text/plain": [
       "<Figure size 432x288 with 1 Axes>"
      ]
     },
     "metadata": {
      "needs_background": "light"
     },
     "output_type": "display_data"
    },
    {
     "name": "stdout",
     "output_type": "stream",
     "text": [
      "7 7\n"
     ]
    },
    {
     "data": {
      "image/png": "[encoded data removed]",
      "text/plain": [
       "<Figure size 432x288 with 1 Axes>"
      ]
     },
     "metadata": {
      "needs_background": "light"
     },
     "output_type": "display_data"
    },
    {
     "name": "stdout",
     "output_type": "stream",
     "text": [
      "8 8\n"
     ]
    },
    {
     "data": {
      "image/png": "[encoded data removed]",
      "text/plain": [
       "<Figure size 432x288 with 1 Axes>"
      ]
     },
     "metadata": {
      "needs_background": "light"
     },
     "output_type": "display_data"
    },
    {
     "name": "stdout",
     "output_type": "stream",
     "text": [
      "1 1\n"
     ]
    },
    {
     "data": {
      "image/png": "[encoded data removed]",
      "text/plain": [
       "<Figure size 432x288 with 1 Axes>"
      ]
     },
     "metadata": {
      "needs_background": "light"
     },
     "output_type": "display_data"
    },
    {
     "name": "stdout",
     "output_type": "stream",
     "text": [
      "0 0\n"
     ]
    },
    {
     "data": {
      "image/png": "[encoded data removed]",
      "text/plain": [
       "<Figure size 432x288 with 1 Axes>"
      ]
     },
     "metadata": {
      "needs_background": "light"
     },
     "output_type": "display_data"
    }
   ],
   "source": [
    "start = 1000\n",
    "v = modelpredict(new_prob_model, x_test[start:(start+10)])\n",
    "for i in range(start,start+10):\n",
    "    plt.imshow((x_test[i]*255).astype('uint8'), cmap=plt.cm.gray)\n",
    "    print(y_test[i], v[i-start])\n",
    "    plt.show()"
   ]
  },
  {
   "cell_type": "code",
   "execution_count": 5,
   "id": "a8d79165",
   "metadata": {},
   "outputs": [],
   "source": [
    "def modelpredictfile(model,imgname):\n",
    "    myimg = cv2.imread(imgname, cv2.IMREAD_UNCHANGED)\n",
    "    gray = cv2.cvtColor(myimg, cv2.COLOR_BGRA2GRAY)\n",
    "    gray28 = cv2.resize(gray, (28,28), interpolation = cv2.INTER_AREA)\n",
    "    gray28 = np.reshape(gray28, (28,28,1))\n",
    "    d = modelpredict(model, np.array([gray28/255.0]))[0]\n",
    "    print(imgname, d)"
   ]
  },
  {
   "cell_type": "code",
   "execution_count": 6,
   "id": "c95eba0f",
   "metadata": {},
   "outputs": [
    {
     "name": "stdout",
     "output_type": "stream",
     "text": [
      "b-eight.png 8\n",
      "b-five-fat.png 5\n",
      "b-four-1.png 4\n",
      "b-four-fat.png 4\n",
      "b-four.png 4\n",
      "b-nine-fat-2.png 9\n",
      "b-nine-fat-3.png 9\n",
      "b-nine-fat-4.png 9\n",
      "b-nine-fat-5.png 9\n",
      "b-nine-fat.png 9\n",
      "b-one-fat.png 1\n",
      "b-seven-fat-2.png 7\n",
      "b-seven-fat-3.png 7\n",
      "b-seven-fat-4.png 7\n",
      "b-seven-fat-5.png 7\n",
      "b-seven-fat.png 7\n",
      "b-six-1.png 6\n",
      "b-six-2.png 6\n",
      "b-six-fat.png 6\n",
      "b-six.png 6\n",
      "b-three-fat.png 3\n",
      "b-three.png 3\n",
      "b-two-fat.png 2\n",
      "b-zero-fat.png 0\n"
     ]
    }
   ],
   "source": [
    "for name in [\"b-eight.png\",\"b-five-fat.png\",\"b-four-1.png\",\"b-four-fat.png\",\"b-four.png\",\"b-nine-fat-2.png\",\"b-nine-fat-3.png\",\n",
    "    \"b-nine-fat-4.png\",\"b-nine-fat-5.png\",\"b-nine-fat.png\",\"b-one-fat.png\",\"b-seven-fat-2.png\",\"b-seven-fat-3.png\",\n",
    "    \"b-seven-fat-4.png\",\"b-seven-fat-5.png\",\"b-seven-fat.png\",\"b-six-1.png\",\"b-six-2.png\",\"b-six-fat.png\",\"b-six.png\",\n",
    "    \"b-three-fat.png\",\"b-three.png\",\"b-two-fat.png\",\"b-zero-fat.png\"]:\n",
    "    modelpredictfile(new_prob_model, name)\n"
   ]
  },
  {
   "cell_type": "code",
   "execution_count": 7,
   "id": "17a6d7a2",
   "metadata": {},
   "outputs": [],
   "source": [
    "import tensorflowjs as tfjs"
   ]
  },
  {
   "cell_type": "code",
   "execution_count": 8,
   "id": "06b156af",
   "metadata": {},
   "outputs": [
    {
     "name": "stdout",
     "output_type": "stream",
     "text": [
      "WARNING:tensorflow:Compiled the loaded model, but the compiled metrics have yet to be built. `model.compile_metrics` will be empty until you train or evaluate the model.\n"
     ]
    }
   ],
   "source": [
    "tfjs.converters.save_keras_model(new_prob_model, \"Saved_Model/converted_tfjs_model\")"
   ]
  },
  {
   "cell_type": "code",
   "execution_count": null,
   "id": "67cf4baa",
   "metadata": {},
   "outputs": [],
   "source": []
  }
 ],
 "metadata": {
  "kernelspec": {
   "display_name": "Python 3",
   "language": "python",
   "name": "python3"
  },
  "language_info": {
   "codemirror_mode": {
    "name": "ipython",
    "version": 3
   },
   "file_extension": ".py",
   "mimetype": "text/x-python",
   "name": "python",
   "nbconvert_exporter": "python",
   "pygments_lexer": "ipython3",
   "version": "3.6.8"
  }
 },
 "nbformat": 4,
 "nbformat_minor": 5
}
