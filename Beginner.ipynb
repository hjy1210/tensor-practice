{
 "cells": [
  {
   "cell_type": "markdown",
   "id": "aaa12e78",
   "metadata": {},
   "source": [
    "本筆記根據[Tensorflow beginner notebook](https://colab.research.google.com/github/tensorflow/docs/blob/master/site/en/tutorials/quickstart/beginner.ipynb)進行修改練習。"
   ]
  },
  {
   "cell_type": "code",
   "execution_count": null,
   "id": "de6ea82d",
   "metadata": {},
   "outputs": [],
   "source": [
    "import tensorflow as tf\n",
    "print(\"TensorFlow version:\", tf.__version__)"
   ]
  },
  {
   "cell_type": "markdown",
   "id": "7fda6049",
   "metadata": {},
   "source": [
    "用(x_train, y_train), (x_test, y_test) = mnist.load_data()叫進來時，x_train的shape是(60000,28,28)。dtype是uint8，可能值為0,1,2,...,255。每一樣本為一28x28的灰階影像。字跡較白，背景黑色。\n",
    "\n",
    "用x_train, x_test = x_train / 255.0, x_test / 255.0轉換後x_train的dtype是float64，每一元素的值介於0與1之間。用來做模型的Input。"
   ]
  },
  {
   "cell_type": "code",
   "execution_count": null,
   "id": "3a3dd16f",
   "metadata": {},
   "outputs": [],
   "source": [
    "mnist = tf.keras.datasets.mnist\n",
    "\n",
    "(x_train, y_train), (x_test, y_test) = mnist.load_data()\n",
    "print(x_train.shape,x_train.dtype)\n",
    "print(tf.math.bincount(x_train[0]))\n",
    "print(tf.reduce_sum(tf.math.bincount(x_train[0])))\n",
    "x_train, x_test = x_train / 255.0, x_test / 255.0"
   ]
  },
  {
   "cell_type": "code",
   "execution_count": null,
   "id": "cc8bbe81",
   "metadata": {},
   "outputs": [],
   "source": [
    "x_train[0], x_train[0].dtype, x_train[0].shape"
   ]
  },
  {
   "cell_type": "code",
   "execution_count": null,
   "id": "72a2a370",
   "metadata": {},
   "outputs": [],
   "source": [
    "model = tf.keras.models.Sequential([\n",
    "  tf.keras.layers.Flatten(input_shape=(28, 28)),\n",
    "  tf.keras.layers.Dense(128, activation='relu'),\n",
    "  tf.keras.layers.Dropout(0.2),\n",
    "  tf.keras.layers.Dense(10)\n",
    "])"
   ]
  },
  {
   "cell_type": "markdown",
   "id": "00d4462f",
   "metadata": {},
   "source": [
    "**%precison** is one of magic commands of ipython\n",
    "[built-in magic commands](https://ipython.readthedocs.io/en/stable/interactive/magics.html)\n",
    "\n",
    "若 images 為由n個值為0與1之間的28x28影像陣列，則tf.nn.softmax(model(images).numpy()).numpy()為nx10的機率陣列，第k列為第k個影像歸類為0,1,2,...,9的機率。"
   ]
  },
  {
   "cell_type": "code",
   "execution_count": null,
   "id": "4c9b62d0",
   "metadata": {},
   "outputs": [],
   "source": [
    "%precision 6\n",
    "predictions = model(x_train[:1]).numpy()\n",
    "predictions"
   ]
  },
  {
   "cell_type": "code",
   "execution_count": null,
   "id": "ded601c2",
   "metadata": {},
   "outputs": [],
   "source": [
    "tf.nn.softmax(predictions).numpy()"
   ]
  },
  {
   "cell_type": "markdown",
   "id": "3a45e648",
   "metadata": {},
   "source": [
    "loss_fn 為SparseCategoricalCrossentropy(from_logits=True)，$-\\log(p)$"
   ]
  },
  {
   "cell_type": "code",
   "execution_count": null,
   "id": "b4bd5ee6",
   "metadata": {},
   "outputs": [],
   "source": [
    "loss_fn = tf.keras.losses.SparseCategoricalCrossentropy(from_logits=True)"
   ]
  },
  {
   "cell_type": "code",
   "execution_count": null,
   "id": "45493a49",
   "metadata": {},
   "outputs": [],
   "source": [
    "print(y_train[:1])\n",
    "label=y_train[:1][0]\n",
    "p = tf.math.exp(predictions[0][label])/tf.reduce_sum(tf.math.exp(predictions[0]))\n",
    "print(-tf.math.log(tf.nn.softmax(predictions).numpy()[0][label]))\n",
    "print(-tf.math.log(p))"
   ]
  },
  {
   "cell_type": "code",
   "execution_count": null,
   "id": "9eec6232",
   "metadata": {},
   "outputs": [],
   "source": [
    "loss_fn(y_train[:1], predictions).numpy()"
   ]
  },
  {
   "cell_type": "code",
   "execution_count": null,
   "id": "3ca7108e",
   "metadata": {},
   "outputs": [],
   "source": [
    "model.compile(optimizer='adam',\n",
    "              loss=loss_fn,\n",
    "              metrics=['accuracy'])"
   ]
  },
  {
   "cell_type": "code",
   "execution_count": null,
   "id": "ee4566e0",
   "metadata": {},
   "outputs": [],
   "source": [
    "model.fit(x_train, y_train, epochs=30)"
   ]
  },
  {
   "cell_type": "code",
   "execution_count": null,
   "id": "af0c4ed5",
   "metadata": {},
   "outputs": [],
   "source": [
    "model.evaluate(x_test,  y_test, verbose=2)"
   ]
  },
  {
   "cell_type": "code",
   "execution_count": null,
   "id": "af94a295",
   "metadata": {},
   "outputs": [],
   "source": [
    "probability_model = tf.keras.Sequential([\n",
    "  model,\n",
    "  tf.keras.layers.Softmax()\n",
    "])"
   ]
  },
  {
   "cell_type": "code",
   "execution_count": null,
   "id": "42a1b4e9",
   "metadata": {},
   "outputs": [],
   "source": [
    "import numpy as np\n",
    "def predict(gray28s):\n",
    "    p=probability_model(gray28s)\n",
    "    print(p)\n",
    "    return np.argmax(p, axis=-1)"
   ]
  },
  {
   "cell_type": "code",
   "execution_count": null,
   "id": "724d3a0a",
   "metadata": {},
   "outputs": [],
   "source": [
    "predict(x_test[:10])"
   ]
  },
  {
   "cell_type": "code",
   "execution_count": null,
   "id": "2677b081",
   "metadata": {},
   "outputs": [],
   "source": [
    "p= probability_model(x_test[:10])\n",
    "print(p)\n",
    "v = np.argmax(p,axis=-1)\n",
    "print(v)"
   ]
  },
  {
   "cell_type": "code",
   "execution_count": null,
   "id": "dc06e828",
   "metadata": {},
   "outputs": [],
   "source": [
    "from matplotlib import pyplot as plt\n",
    "digit=(x_train[4]*255).astype('uint8')\n"
   ]
  },
  {
   "cell_type": "code",
   "execution_count": null,
   "id": "67199988",
   "metadata": {},
   "outputs": [],
   "source": [
    "digit\n"
   ]
  },
  {
   "cell_type": "code",
   "execution_count": null,
   "id": "ebc1e833",
   "metadata": {},
   "outputs": [],
   "source": [
    "plt.imshow(digit, cmap=plt.cm.gray)\n",
    "plt.show()"
   ]
  },
  {
   "cell_type": "code",
   "execution_count": null,
   "id": "4fedb327",
   "metadata": {},
   "outputs": [],
   "source": [
    "for i in range(10):\n",
    "    plt.imshow((x_test[i]*255).astype('uint8'), cmap=plt.cm.gray)\n",
    "    print(y_test[i], v[i])\n",
    "    plt.show()"
   ]
  },
  {
   "cell_type": "code",
   "execution_count": null,
   "id": "d9428634",
   "metadata": {},
   "outputs": [],
   "source": [
    "import matplotlib.image as img\n",
    "import cv2"
   ]
  },
  {
   "cell_type": "code",
   "execution_count": null,
   "id": "cf741795",
   "metadata": {},
   "outputs": [],
   "source": [
    "imgname = \"b-four-fat.png\"\n",
    "image = img.imread(imgname)\n",
    "#image.resize(28,28)\n",
    "plt.imshow(image)\n",
    "plt.show()"
   ]
  },
  {
   "cell_type": "code",
   "execution_count": null,
   "id": "89a874bf",
   "metadata": {},
   "outputs": [],
   "source": [
    "myimg = cv2.imread(imgname, cv2.IMREAD_UNCHANGED)\n",
    "#img = (img*255)\n",
    "#print(img)\n",
    "print(myimg.shape, myimg.dtype)\n",
    "#print(np.max(img,axis=1))\n",
    "gray = cv2.cvtColor(myimg, cv2.COLOR_BGRA2GRAY)\n",
    "print(gray.shape, gray.dtype)\n",
    "gray28 = cv2.resize(gray, (28,28), interpolation = cv2.INTER_AREA)\n",
    "print(gray28.shape,gray28.dtype)\n",
    "print(tf.math.bincount(gray28))\n",
    "print(tf.reduce_sum(tf.math.bincount(gray28)))"
   ]
  },
  {
   "cell_type": "code",
   "execution_count": null,
   "id": "8a7d4f42",
   "metadata": {},
   "outputs": [],
   "source": [
    "#cv2.imshow(\"Resized image\",gray28)\n",
    "#cv2.waitKey(0)\n",
    "#cv2.destroyAllWindows()\n",
    "plt.imshow(gray28, cmap=plt.cm.gray)\n",
    "plt.show()"
   ]
  },
  {
   "cell_type": "code",
   "execution_count": null,
   "id": "caf4ade0",
   "metadata": {},
   "outputs": [],
   "source": [
    "np.array([gray28/255.0]).shape"
   ]
  },
  {
   "cell_type": "code",
   "execution_count": null,
   "id": "b91c1980",
   "metadata": {},
   "outputs": [],
   "source": [
    "predict(np.array([gray28/255.0]))[0]"
   ]
  },
  {
   "cell_type": "code",
   "execution_count": null,
   "id": "0f9592db",
   "metadata": {},
   "outputs": [],
   "source": [
    "plt.imshow(gray28, cmap=plt.cm.gray)\n",
    "plt.show()"
   ]
  },
  {
   "cell_type": "code",
   "execution_count": null,
   "id": "b6d4d827",
   "metadata": {},
   "outputs": [],
   "source": [
    "import numpy as np\n",
    "np.max(image), np.min(image)"
   ]
  },
  {
   "cell_type": "code",
   "execution_count": null,
   "id": "a8bdf48e",
   "metadata": {},
   "outputs": [],
   "source": [
    "image1=(image*255).astype(\"uint8\")"
   ]
  },
  {
   "cell_type": "code",
   "execution_count": null,
   "id": "a82ab416",
   "metadata": {},
   "outputs": [],
   "source": [
    "plt.imshow(image1)\n",
    "plt.show()"
   ]
  },
  {
   "cell_type": "code",
   "execution_count": null,
   "id": "248ef7ef",
   "metadata": {},
   "outputs": [],
   "source": [
    "np.max(image1), np.min(image1), image1.shape"
   ]
  },
  {
   "cell_type": "markdown",
   "id": "a5af3201",
   "metadata": {},
   "source": [
    "用[ixartz 網頁](https://digit-recognition.ixartz.com/)製作加粗的數字，以mypredic函數辨識，只有7失敗，為什麼？"
   ]
  },
  {
   "cell_type": "code",
   "execution_count": null,
   "id": "1515698d",
   "metadata": {},
   "outputs": [],
   "source": [
    "def mypredict(imgname, plot=False):\n",
    "    myimg = cv2.imread(imgname, cv2.IMREAD_UNCHANGED)\n",
    "    gray = cv2.cvtColor(myimg, cv2.COLOR_BGRA2GRAY)\n",
    "    gray28 = cv2.resize(gray, (28,28), interpolation = cv2.INTER_AREA)\n",
    "    if plot:\n",
    "        plt.imshow(gray28, cmap=plt.cm.gray)\n",
    "        plt.show()\n",
    "    d = predict(np.array([gray28/255.0]))[0]\n",
    "    print(imgname, d)"
   ]
  },
  {
   "cell_type": "code",
   "execution_count": null,
   "id": "b5946ae2",
   "metadata": {},
   "outputs": [],
   "source": [
    "def mypredictblur(imgname, plot=False):\n",
    "    myimg = cv2.imread(imgname, cv2.IMREAD_UNCHANGED)\n",
    "    gray = cv2.cvtColor(myimg, cv2.COLOR_BGRA2GRAY)\n",
    "    gray28 = cv2.resize(gray, (28,28), interpolation = cv2.INTER_AREA)\n",
    "    gray28blur = cv2.blur(gray28, (3,3))\n",
    "    if plot:\n",
    "        plt.imshow(gray28, cmap=plt.cm.gray)\n",
    "        plt.show()\n",
    "        plt.imshow(gray28blur, cmap=plt.cm.gray)\n",
    "        plt.show()\n",
    "    d = predict(np.array([gray28blur/255.0]))[0]\n",
    "    print(imgname, d)"
   ]
  },
  {
   "cell_type": "code",
   "execution_count": null,
   "id": "0baac162",
   "metadata": {},
   "outputs": [],
   "source": [
    "mypredict(\"b-seven-fat-4.png\")"
   ]
  },
  {
   "cell_type": "code",
   "execution_count": null,
   "id": "fbdb2b06",
   "metadata": {},
   "outputs": [],
   "source": [
    "for name in [\"b-zero-fat.png\",\"b-one-fat.png\",\"b-two-fat.png\",\"b-three-fat.png\",\"b-four-fat.png\",\"b-five-fat.png\",\"b-six-fat.png\",\"b-seven-fat.png\",\"b-eight-fat.png\",\"b-nine-fat.png\"]:\n",
    "    mypredict(name)"
   ]
  },
  {
   "cell_type": "code",
   "execution_count": null,
   "id": "3d45b636",
   "metadata": {},
   "outputs": [],
   "source": [
    "for name in [\"b-seven-fat.png\",\"b-seven-fat-2.png\",\"b-seven-fat-3.png\",\"b-seven-fat-4.png\",\"b-seven-fat-5.png\"]:\n",
    "    mypredict(name, True)"
   ]
  },
  {
   "cell_type": "code",
   "execution_count": null,
   "id": "7101df8d",
   "metadata": {},
   "outputs": [],
   "source": [
    "for name in [\"b-seven-fat.png\",\"b-seven-fat-2.png\",\"b-seven-fat-3.png\",\"b-seven-fat-4.png\",\"b-seven-fat-5.png\"]:\n",
    "    mypredictblur(name, True)"
   ]
  },
  {
   "cell_type": "code",
   "execution_count": null,
   "id": "59d44217",
   "metadata": {},
   "outputs": [],
   "source": []
  }
 ],
 "metadata": {
  "kernelspec": {
   "display_name": "Python 3 (ipykernel)",
   "language": "python",
   "name": "python3"
  },
  "language_info": {
   "codemirror_mode": {
    "name": "ipython",
    "version": 3
   },
   "file_extension": ".py",
   "mimetype": "text/x-python",
   "name": "python",
   "nbconvert_exporter": "python",
   "pygments_lexer": "ipython3",
   "version": "3.10.4"
  }
 },
 "nbformat": 4,
 "nbformat_minor": 5
}
