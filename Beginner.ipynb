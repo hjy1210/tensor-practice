{
 "cells": [
  {
   "cell_type": "markdown",
   "id": "aaa12e78",
   "metadata": {},
   "source": [
    "本筆記根據[Tensorflow beginner notebook](https://colab.research.google.com/github/tensorflow/docs/blob/master/site/en/tutorials/quickstart/beginner.ipynb)進行修改練習。"
   ]
  },
  {
   "cell_type": "code",
   "execution_count": 264,
   "id": "de6ea82d",
   "metadata": {},
   "outputs": [
    {
     "name": "stdout",
     "output_type": "stream",
     "text": [
      "TensorFlow version: 2.9.1\n"
     ]
    }
   ],
   "source": [
    "import tensorflow as tf\n",
    "print(\"TensorFlow version:\", tf.__version__)"
   ]
  },
  {
   "cell_type": "markdown",
   "id": "7fda6049",
   "metadata": {},
   "source": [
    "用(x_train, y_train), (x_test, y_test) = mnist.load_data()叫進來時，x_train的shape是(60000,28,28)。dtype是uint8，可能值為0,1,2,...,255。每一樣本為一28x28的灰階影像。字跡較白，背景黑色。\n",
    "\n",
    "用x_train, x_test = x_train / 255.0, x_test / 255.0轉換後x_train的dtype是float64，每一元素的值介於0與1之間。用來做模型的Input。"
   ]
  },
  {
   "cell_type": "code",
   "execution_count": 265,
   "id": "3a3dd16f",
   "metadata": {},
   "outputs": [
    {
     "name": "stdout",
     "output_type": "stream",
     "text": [
      "(60000, 28, 28) uint8\n",
      "tf.Tensor(\n",
      "[618   2   3   1   0   0   0   0   0   1   0   3   0   0   1   0   2   0\n",
      "   5   0   0   0   0   1   1   1   1   1   0   0   1   0   0   0   0   1\n",
      "   1   0   0   2   0   0   0   1   0   1   1   0   0   1   0   0   0   0\n",
      "   0   1   1   0   0   0   0   0   0   0   2   0   1   0   0   0   1   0\n",
      "   0   0   0   0   0   0   1   0   2   2   2   0   0   0   0   0   0   0\n",
      "   1   0   0   2   1   0   0   0   0   0   0   0   0   0   0   0   0   1\n",
      "   1   0   0   0   0   0   1   0   0   0   0   1   0   0   0   0   0   0\n",
      "   1   1   0   0   1   0   1   1   0   1   2   0   0   1   0   0   0   0\n",
      "   0   0   0   0   1   0   1   0   0   0   3   0   1   0   0   0   1   0\n",
      "   0   0   0   0   1   0   0   0   1   1   2   0   0   1   0   0   0   0\n",
      "   0   0   2   1   0   0   1   1   0   0   2   0   0   0   0   2   0   0\n",
      "   2   0   0   1   0   0   0   1   0   1   0   0   0   0   1   1   0   0\n",
      "   0   0   0   2   0   1   0   0   0   2   1   0   0   1   0   0   0   0\n",
      "   0   0   0   0   1   0   1   2   1   0   1   0   0   2   0   2   1   1\n",
      "   1  54   0   1], shape=(256,), dtype=int32)\n",
      "tf.Tensor(784, shape=(), dtype=int32)\n"
     ]
    }
   ],
   "source": [
    "mnist = tf.keras.datasets.mnist\n",
    "\n",
    "(x_train, y_train), (x_test, y_test) = mnist.load_data()\n",
    "print(x_train.shape,x_train.dtype)\n",
    "print(tf.math.bincount(x_train[0]))\n",
    "print(tf.reduce_sum(tf.math.bincount(x_train[0])))\n",
    "x_train, x_test = x_train / 255.0, x_test / 255.0"
   ]
  },
  {
   "cell_type": "code",
   "execution_count": 266,
   "id": "cc8bbe81",
   "metadata": {},
   "outputs": [
    {
     "data": {
      "text/plain": [
       "(array([[0.      , 0.      , 0.      , 0.      , 0.      , 0.      ,\n",
       "         0.      , 0.      , 0.      , 0.      , 0.      , 0.      ,\n",
       "         0.      , 0.      , 0.      , 0.      , 0.      , 0.      ,\n",
       "         0.      , 0.      , 0.      , 0.      , 0.      , 0.      ,\n",
       "         0.      , 0.      , 0.      , 0.      ],\n",
       "        [0.      , 0.      , 0.      , 0.      , 0.      , 0.      ,\n",
       "         0.      , 0.      , 0.      , 0.      , 0.      , 0.      ,\n",
       "         0.      , 0.      , 0.      , 0.      , 0.      , 0.      ,\n",
       "         0.      , 0.      , 0.      , 0.      , 0.      , 0.      ,\n",
       "         0.      , 0.      , 0.      , 0.      ],\n",
       "        [0.      , 0.      , 0.      , 0.      , 0.      , 0.      ,\n",
       "         0.      , 0.      , 0.      , 0.      , 0.      , 0.      ,\n",
       "         0.      , 0.      , 0.      , 0.      , 0.      , 0.      ,\n",
       "         0.      , 0.      , 0.      , 0.      , 0.      , 0.      ,\n",
       "         0.      , 0.      , 0.      , 0.      ],\n",
       "        [0.      , 0.      , 0.      , 0.      , 0.      , 0.      ,\n",
       "         0.      , 0.      , 0.      , 0.      , 0.      , 0.      ,\n",
       "         0.      , 0.      , 0.      , 0.      , 0.      , 0.      ,\n",
       "         0.      , 0.      , 0.      , 0.      , 0.      , 0.      ,\n",
       "         0.      , 0.      , 0.      , 0.      ],\n",
       "        [0.      , 0.      , 0.      , 0.      , 0.      , 0.      ,\n",
       "         0.      , 0.      , 0.      , 0.      , 0.      , 0.      ,\n",
       "         0.      , 0.      , 0.      , 0.      , 0.      , 0.      ,\n",
       "         0.      , 0.      , 0.      , 0.      , 0.      , 0.      ,\n",
       "         0.      , 0.      , 0.      , 0.      ],\n",
       "        [0.      , 0.      , 0.      , 0.      , 0.      , 0.      ,\n",
       "         0.      , 0.      , 0.      , 0.      , 0.      , 0.      ,\n",
       "         0.011765, 0.070588, 0.070588, 0.070588, 0.494118, 0.533333,\n",
       "         0.686275, 0.101961, 0.65098 , 1.      , 0.968627, 0.498039,\n",
       "         0.      , 0.      , 0.      , 0.      ],\n",
       "        [0.      , 0.      , 0.      , 0.      , 0.      , 0.      ,\n",
       "         0.      , 0.      , 0.117647, 0.141176, 0.368627, 0.603922,\n",
       "         0.666667, 0.992157, 0.992157, 0.992157, 0.992157, 0.992157,\n",
       "         0.882353, 0.67451 , 0.992157, 0.94902 , 0.764706, 0.25098 ,\n",
       "         0.      , 0.      , 0.      , 0.      ],\n",
       "        [0.      , 0.      , 0.      , 0.      , 0.      , 0.      ,\n",
       "         0.      , 0.192157, 0.933333, 0.992157, 0.992157, 0.992157,\n",
       "         0.992157, 0.992157, 0.992157, 0.992157, 0.992157, 0.984314,\n",
       "         0.364706, 0.321569, 0.321569, 0.219608, 0.152941, 0.      ,\n",
       "         0.      , 0.      , 0.      , 0.      ],\n",
       "        [0.      , 0.      , 0.      , 0.      , 0.      , 0.      ,\n",
       "         0.      , 0.070588, 0.858824, 0.992157, 0.992157, 0.992157,\n",
       "         0.992157, 0.992157, 0.776471, 0.713725, 0.968627, 0.945098,\n",
       "         0.      , 0.      , 0.      , 0.      , 0.      , 0.      ,\n",
       "         0.      , 0.      , 0.      , 0.      ],\n",
       "        [0.      , 0.      , 0.      , 0.      , 0.      , 0.      ,\n",
       "         0.      , 0.      , 0.313725, 0.611765, 0.419608, 0.992157,\n",
       "         0.992157, 0.803922, 0.043137, 0.      , 0.168627, 0.603922,\n",
       "         0.      , 0.      , 0.      , 0.      , 0.      , 0.      ,\n",
       "         0.      , 0.      , 0.      , 0.      ],\n",
       "        [0.      , 0.      , 0.      , 0.      , 0.      , 0.      ,\n",
       "         0.      , 0.      , 0.      , 0.054902, 0.003922, 0.603922,\n",
       "         0.992157, 0.352941, 0.      , 0.      , 0.      , 0.      ,\n",
       "         0.      , 0.      , 0.      , 0.      , 0.      , 0.      ,\n",
       "         0.      , 0.      , 0.      , 0.      ],\n",
       "        [0.      , 0.      , 0.      , 0.      , 0.      , 0.      ,\n",
       "         0.      , 0.      , 0.      , 0.      , 0.      , 0.545098,\n",
       "         0.992157, 0.745098, 0.007843, 0.      , 0.      , 0.      ,\n",
       "         0.      , 0.      , 0.      , 0.      , 0.      , 0.      ,\n",
       "         0.      , 0.      , 0.      , 0.      ],\n",
       "        [0.      , 0.      , 0.      , 0.      , 0.      , 0.      ,\n",
       "         0.      , 0.      , 0.      , 0.      , 0.      , 0.043137,\n",
       "         0.745098, 0.992157, 0.27451 , 0.      , 0.      , 0.      ,\n",
       "         0.      , 0.      , 0.      , 0.      , 0.      , 0.      ,\n",
       "         0.      , 0.      , 0.      , 0.      ],\n",
       "        [0.      , 0.      , 0.      , 0.      , 0.      , 0.      ,\n",
       "         0.      , 0.      , 0.      , 0.      , 0.      , 0.      ,\n",
       "         0.137255, 0.945098, 0.882353, 0.627451, 0.423529, 0.003922,\n",
       "         0.      , 0.      , 0.      , 0.      , 0.      , 0.      ,\n",
       "         0.      , 0.      , 0.      , 0.      ],\n",
       "        [0.      , 0.      , 0.      , 0.      , 0.      , 0.      ,\n",
       "         0.      , 0.      , 0.      , 0.      , 0.      , 0.      ,\n",
       "         0.      , 0.317647, 0.941176, 0.992157, 0.992157, 0.466667,\n",
       "         0.098039, 0.      , 0.      , 0.      , 0.      , 0.      ,\n",
       "         0.      , 0.      , 0.      , 0.      ],\n",
       "        [0.      , 0.      , 0.      , 0.      , 0.      , 0.      ,\n",
       "         0.      , 0.      , 0.      , 0.      , 0.      , 0.      ,\n",
       "         0.      , 0.      , 0.176471, 0.729412, 0.992157, 0.992157,\n",
       "         0.588235, 0.105882, 0.      , 0.      , 0.      , 0.      ,\n",
       "         0.      , 0.      , 0.      , 0.      ],\n",
       "        [0.      , 0.      , 0.      , 0.      , 0.      , 0.      ,\n",
       "         0.      , 0.      , 0.      , 0.      , 0.      , 0.      ,\n",
       "         0.      , 0.      , 0.      , 0.062745, 0.364706, 0.988235,\n",
       "         0.992157, 0.733333, 0.      , 0.      , 0.      , 0.      ,\n",
       "         0.      , 0.      , 0.      , 0.      ],\n",
       "        [0.      , 0.      , 0.      , 0.      , 0.      , 0.      ,\n",
       "         0.      , 0.      , 0.      , 0.      , 0.      , 0.      ,\n",
       "         0.      , 0.      , 0.      , 0.      , 0.      , 0.976471,\n",
       "         0.992157, 0.976471, 0.25098 , 0.      , 0.      , 0.      ,\n",
       "         0.      , 0.      , 0.      , 0.      ],\n",
       "        [0.      , 0.      , 0.      , 0.      , 0.      , 0.      ,\n",
       "         0.      , 0.      , 0.      , 0.      , 0.      , 0.      ,\n",
       "         0.      , 0.      , 0.180392, 0.509804, 0.717647, 0.992157,\n",
       "         0.992157, 0.811765, 0.007843, 0.      , 0.      , 0.      ,\n",
       "         0.      , 0.      , 0.      , 0.      ],\n",
       "        [0.      , 0.      , 0.      , 0.      , 0.      , 0.      ,\n",
       "         0.      , 0.      , 0.      , 0.      , 0.      , 0.      ,\n",
       "         0.152941, 0.580392, 0.898039, 0.992157, 0.992157, 0.992157,\n",
       "         0.980392, 0.713725, 0.      , 0.      , 0.      , 0.      ,\n",
       "         0.      , 0.      , 0.      , 0.      ],\n",
       "        [0.      , 0.      , 0.      , 0.      , 0.      , 0.      ,\n",
       "         0.      , 0.      , 0.      , 0.      , 0.094118, 0.447059,\n",
       "         0.866667, 0.992157, 0.992157, 0.992157, 0.992157, 0.788235,\n",
       "         0.305882, 0.      , 0.      , 0.      , 0.      , 0.      ,\n",
       "         0.      , 0.      , 0.      , 0.      ],\n",
       "        [0.      , 0.      , 0.      , 0.      , 0.      , 0.      ,\n",
       "         0.      , 0.      , 0.090196, 0.258824, 0.835294, 0.992157,\n",
       "         0.992157, 0.992157, 0.992157, 0.776471, 0.317647, 0.007843,\n",
       "         0.      , 0.      , 0.      , 0.      , 0.      , 0.      ,\n",
       "         0.      , 0.      , 0.      , 0.      ],\n",
       "        [0.      , 0.      , 0.      , 0.      , 0.      , 0.      ,\n",
       "         0.070588, 0.670588, 0.858824, 0.992157, 0.992157, 0.992157,\n",
       "         0.992157, 0.764706, 0.313725, 0.035294, 0.      , 0.      ,\n",
       "         0.      , 0.      , 0.      , 0.      , 0.      , 0.      ,\n",
       "         0.      , 0.      , 0.      , 0.      ],\n",
       "        [0.      , 0.      , 0.      , 0.      , 0.215686, 0.67451 ,\n",
       "         0.886275, 0.992157, 0.992157, 0.992157, 0.992157, 0.956863,\n",
       "         0.521569, 0.043137, 0.      , 0.      , 0.      , 0.      ,\n",
       "         0.      , 0.      , 0.      , 0.      , 0.      , 0.      ,\n",
       "         0.      , 0.      , 0.      , 0.      ],\n",
       "        [0.      , 0.      , 0.      , 0.      , 0.533333, 0.992157,\n",
       "         0.992157, 0.992157, 0.831373, 0.529412, 0.517647, 0.062745,\n",
       "         0.      , 0.      , 0.      , 0.      , 0.      , 0.      ,\n",
       "         0.      , 0.      , 0.      , 0.      , 0.      , 0.      ,\n",
       "         0.      , 0.      , 0.      , 0.      ],\n",
       "        [0.      , 0.      , 0.      , 0.      , 0.      , 0.      ,\n",
       "         0.      , 0.      , 0.      , 0.      , 0.      , 0.      ,\n",
       "         0.      , 0.      , 0.      , 0.      , 0.      , 0.      ,\n",
       "         0.      , 0.      , 0.      , 0.      , 0.      , 0.      ,\n",
       "         0.      , 0.      , 0.      , 0.      ],\n",
       "        [0.      , 0.      , 0.      , 0.      , 0.      , 0.      ,\n",
       "         0.      , 0.      , 0.      , 0.      , 0.      , 0.      ,\n",
       "         0.      , 0.      , 0.      , 0.      , 0.      , 0.      ,\n",
       "         0.      , 0.      , 0.      , 0.      , 0.      , 0.      ,\n",
       "         0.      , 0.      , 0.      , 0.      ],\n",
       "        [0.      , 0.      , 0.      , 0.      , 0.      , 0.      ,\n",
       "         0.      , 0.      , 0.      , 0.      , 0.      , 0.      ,\n",
       "         0.      , 0.      , 0.      , 0.      , 0.      , 0.      ,\n",
       "         0.      , 0.      , 0.      , 0.      , 0.      , 0.      ,\n",
       "         0.      , 0.      , 0.      , 0.      ]]),\n",
       " dtype('float64'),\n",
       " (28, 28))"
      ]
     },
     "execution_count": 266,
     "metadata": {},
     "output_type": "execute_result"
    }
   ],
   "source": [
    "x_train[0], x_train[0].dtype, x_train[0].shape"
   ]
  },
  {
   "cell_type": "code",
   "execution_count": 267,
   "id": "72a2a370",
   "metadata": {},
   "outputs": [],
   "source": [
    "model = tf.keras.models.Sequential([\n",
    "  tf.keras.layers.Flatten(input_shape=(28, 28)),\n",
    "  tf.keras.layers.Dense(128, activation='relu'),\n",
    "  tf.keras.layers.Dropout(0.2),\n",
    "  tf.keras.layers.Dense(10)\n",
    "])"
   ]
  },
  {
   "cell_type": "markdown",
   "id": "00d4462f",
   "metadata": {},
   "source": [
    "**%precison** is one of magic commands of ipython\n",
    "[built-in magic commands](https://ipython.readthedocs.io/en/stable/interactive/magics.html)\n",
    "\n",
    "若 images 為由n個值為0與1之間的28x28影像陣列，則tf.nn.softmax(model(images).numpy()).numpy()為nx10的機率陣列，第k列為第k個影像歸類為0,1,2,...,9的機率。"
   ]
  },
  {
   "cell_type": "code",
   "execution_count": 268,
   "id": "4c9b62d0",
   "metadata": {},
   "outputs": [
    {
     "data": {
      "text/plain": [
       "array([[-0.071823,  0.101864,  0.092429, -0.793982, -0.643124, -0.463236,\n",
       "        -0.067818,  1.056141,  0.613987, -0.339115]], dtype=float32)"
      ]
     },
     "execution_count": 268,
     "metadata": {},
     "output_type": "execute_result"
    }
   ],
   "source": [
    "%precision 6\n",
    "predictions = model(x_train[:1]).numpy()\n",
    "predictions"
   ]
  },
  {
   "cell_type": "code",
   "execution_count": 269,
   "id": "ded601c2",
   "metadata": {},
   "outputs": [
    {
     "data": {
      "text/plain": [
       "array([[0.083759, 0.099647, 0.098711, 0.040682, 0.047306, 0.05663 ,\n",
       "        0.084095, 0.258762, 0.166294, 0.064113]], dtype=float32)"
      ]
     },
     "execution_count": 269,
     "metadata": {},
     "output_type": "execute_result"
    }
   ],
   "source": [
    "tf.nn.softmax(predictions).numpy()"
   ]
  },
  {
   "cell_type": "markdown",
   "id": "3a45e648",
   "metadata": {},
   "source": [
    "loss_fn 為SparseCategoricalCrossentropy(from_logits=True)，$-\\log(p)$"
   ]
  },
  {
   "cell_type": "code",
   "execution_count": 270,
   "id": "b4bd5ee6",
   "metadata": {},
   "outputs": [],
   "source": [
    "loss_fn = tf.keras.losses.SparseCategoricalCrossentropy(from_logits=True)"
   ]
  },
  {
   "cell_type": "code",
   "execution_count": 271,
   "id": "45493a49",
   "metadata": {},
   "outputs": [
    {
     "name": "stdout",
     "output_type": "stream",
     "text": [
      "[5]\n",
      "tf.Tensor(2.871223, shape=(), dtype=float32)\n",
      "tf.Tensor(2.871223, shape=(), dtype=float32)\n"
     ]
    }
   ],
   "source": [
    "print(y_train[:1])\n",
    "label=y_train[:1][0]\n",
    "p = tf.math.exp(predictions[0][label])/tf.reduce_sum(tf.math.exp(predictions[0]))\n",
    "print(-tf.math.log(tf.nn.softmax(predictions).numpy()[0][label]))\n",
    "print(-tf.math.log(p))"
   ]
  },
  {
   "cell_type": "code",
   "execution_count": 272,
   "id": "9eec6232",
   "metadata": {},
   "outputs": [
    {
     "data": {
      "text/plain": [
       "2.871223"
      ]
     },
     "execution_count": 272,
     "metadata": {},
     "output_type": "execute_result"
    }
   ],
   "source": [
    "loss_fn(y_train[:1], predictions).numpy()"
   ]
  },
  {
   "cell_type": "code",
   "execution_count": 273,
   "id": "3ca7108e",
   "metadata": {},
   "outputs": [],
   "source": [
    "model.compile(optimizer='adam',\n",
    "              loss=loss_fn,\n",
    "              metrics=['accuracy'])"
   ]
  },
  {
   "cell_type": "code",
   "execution_count": 274,
   "id": "ee4566e0",
   "metadata": {},
   "outputs": [
    {
     "name": "stdout",
     "output_type": "stream",
     "text": [
      "Epoch 1/10\n",
      "1875/1875 [==============================] - 3s 1ms/step - loss: 0.2946 - accuracy: 0.9140\n",
      "Epoch 2/10\n",
      "1875/1875 [==============================] - 3s 1ms/step - loss: 0.1453 - accuracy: 0.9570\n",
      "Epoch 3/10\n",
      "1875/1875 [==============================] - 3s 1ms/step - loss: 0.1098 - accuracy: 0.9672\n",
      "Epoch 4/10\n",
      "1875/1875 [==============================] - 3s 1ms/step - loss: 0.0880 - accuracy: 0.9729\n",
      "Epoch 5/10\n",
      "1875/1875 [==============================] - 3s 1ms/step - loss: 0.0771 - accuracy: 0.9757\n",
      "Epoch 6/10\n",
      "1875/1875 [==============================] - 3s 1ms/step - loss: 0.0672 - accuracy: 0.9784\n",
      "Epoch 7/10\n",
      "1875/1875 [==============================] - 3s 1ms/step - loss: 0.0604 - accuracy: 0.9800\n",
      "Epoch 8/10\n",
      "1875/1875 [==============================] - 3s 1ms/step - loss: 0.0542 - accuracy: 0.9824\n",
      "Epoch 9/10\n",
      "1875/1875 [==============================] - 3s 1ms/step - loss: 0.0490 - accuracy: 0.9843\n",
      "Epoch 10/10\n",
      "1875/1875 [==============================] - 3s 1ms/step - loss: 0.0448 - accuracy: 0.9851\n"
     ]
    },
    {
     "data": {
      "text/plain": [
       "<keras.callbacks.History at 0x1e39c8301c0>"
      ]
     },
     "execution_count": 274,
     "metadata": {},
     "output_type": "execute_result"
    }
   ],
   "source": [
    "model.fit(x_train, y_train, epochs=30)"
   ]
  },
  {
   "cell_type": "code",
   "execution_count": 275,
   "id": "af0c4ed5",
   "metadata": {},
   "outputs": [
    {
     "name": "stdout",
     "output_type": "stream",
     "text": [
      "313/313 - 0s - loss: 0.0729 - accuracy: 0.9799 - 377ms/epoch - 1ms/step\n"
     ]
    },
    {
     "data": {
      "text/plain": [
       "[0.072927, 0.979900]"
      ]
     },
     "execution_count": 275,
     "metadata": {},
     "output_type": "execute_result"
    }
   ],
   "source": [
    "model.evaluate(x_test,  y_test, verbose=2)"
   ]
  },
  {
   "cell_type": "code",
   "execution_count": 276,
   "id": "af94a295",
   "metadata": {},
   "outputs": [],
   "source": [
    "probability_model = tf.keras.Sequential([\n",
    "  model,\n",
    "  tf.keras.layers.Softmax()\n",
    "])"
   ]
  },
  {
   "cell_type": "code",
   "execution_count": 277,
   "id": "42a1b4e9",
   "metadata": {},
   "outputs": [],
   "source": [
    "import numpy as np\n",
    "def predict(gray28s):\n",
    "    p=probability_model(gray28s)\n",
    "    print(p)\n",
    "    return np.argmax(p, axis=-1)"
   ]
  },
  {
   "cell_type": "code",
   "execution_count": 278,
   "id": "724d3a0a",
   "metadata": {},
   "outputs": [
    {
     "name": "stdout",
     "output_type": "stream",
     "text": [
      "tf.Tensor(\n",
      "[[3.782703e-08 1.543670e-11 8.274889e-09 5.885368e-05 9.064292e-14\n",
      "  5.764040e-08 9.417156e-15 9.999374e-01 3.127238e-08 3.674439e-06]\n",
      " [4.535126e-10 7.585895e-06 9.999903e-01 1.118330e-06 7.798512e-17\n",
      "  6.816577e-07 5.523665e-11 1.113207e-14 2.274739e-07 3.670922e-16]\n",
      " [6.603802e-09 9.998137e-01 9.992798e-05 4.957998e-08 2.930561e-06\n",
      "  3.238018e-08 6.623172e-07 7.866404e-05 4.018140e-06 1.148156e-08]\n",
      " [9.999982e-01 1.324749e-12 2.753552e-08 1.557938e-11 1.949859e-08\n",
      "  2.042569e-08 6.089574e-07 1.024295e-06 2.713570e-10 1.144427e-07]\n",
      " [3.499275e-08 5.408402e-12 8.452307e-08 6.016026e-10 9.996932e-01\n",
      "  5.156218e-08 6.179403e-09 1.523291e-05 3.801725e-08 2.914589e-04]\n",
      " [1.697179e-10 9.999272e-01 3.331839e-07 3.921959e-09 2.131036e-06\n",
      "  1.322929e-10 2.434689e-09 7.005812e-05 2.483919e-07 4.048633e-09]\n",
      " [3.085273e-14 7.476353e-11 6.875696e-12 2.315695e-11 9.999861e-01\n",
      "  6.744621e-09 2.064310e-11 5.743808e-06 8.159784e-06 7.311620e-08]\n",
      " [4.404961e-10 2.359922e-08 1.499911e-05 6.324145e-03 3.022114e-04\n",
      "  1.085586e-05 7.650237e-11 8.403401e-05 4.589994e-06 9.932592e-01]\n",
      " [3.511662e-10 2.268088e-09 2.653995e-06 1.710631e-07 5.607729e-05\n",
      "  9.659689e-01 3.372621e-02 1.759614e-06 2.327284e-04 1.151997e-05]\n",
      " [5.555505e-14 3.125547e-14 4.616214e-13 4.414750e-08 2.023396e-03\n",
      "  1.373625e-09 1.250306e-13 2.746807e-04 2.000159e-05 9.976819e-01]], shape=(10, 10), dtype=float32)\n"
     ]
    },
    {
     "data": {
      "text/plain": [
       "array([7, 2, 1, 0, 4, 1, 4, 9, 5, 9], dtype=int64)"
      ]
     },
     "execution_count": 278,
     "metadata": {},
     "output_type": "execute_result"
    }
   ],
   "source": [
    "predict(x_test[:10])"
   ]
  },
  {
   "cell_type": "code",
   "execution_count": 279,
   "id": "2677b081",
   "metadata": {},
   "outputs": [
    {
     "name": "stdout",
     "output_type": "stream",
     "text": [
      "tf.Tensor(\n",
      "[[3.782703e-08 1.543670e-11 8.274889e-09 5.885368e-05 9.064292e-14\n",
      "  5.764040e-08 9.417156e-15 9.999374e-01 3.127238e-08 3.674439e-06]\n",
      " [4.535126e-10 7.585895e-06 9.999903e-01 1.118330e-06 7.798512e-17\n",
      "  6.816577e-07 5.523665e-11 1.113207e-14 2.274739e-07 3.670922e-16]\n",
      " [6.603802e-09 9.998137e-01 9.992798e-05 4.957998e-08 2.930561e-06\n",
      "  3.238018e-08 6.623172e-07 7.866404e-05 4.018140e-06 1.148156e-08]\n",
      " [9.999982e-01 1.324749e-12 2.753552e-08 1.557938e-11 1.949859e-08\n",
      "  2.042569e-08 6.089574e-07 1.024295e-06 2.713570e-10 1.144427e-07]\n",
      " [3.499275e-08 5.408402e-12 8.452307e-08 6.016026e-10 9.996932e-01\n",
      "  5.156218e-08 6.179403e-09 1.523291e-05 3.801725e-08 2.914589e-04]\n",
      " [1.697179e-10 9.999272e-01 3.331839e-07 3.921959e-09 2.131036e-06\n",
      "  1.322929e-10 2.434689e-09 7.005812e-05 2.483919e-07 4.048633e-09]\n",
      " [3.085273e-14 7.476353e-11 6.875696e-12 2.315695e-11 9.999861e-01\n",
      "  6.744621e-09 2.064310e-11 5.743808e-06 8.159784e-06 7.311620e-08]\n",
      " [4.404961e-10 2.359922e-08 1.499911e-05 6.324145e-03 3.022114e-04\n",
      "  1.085586e-05 7.650237e-11 8.403401e-05 4.589994e-06 9.932592e-01]\n",
      " [3.511662e-10 2.268088e-09 2.653995e-06 1.710631e-07 5.607729e-05\n",
      "  9.659689e-01 3.372621e-02 1.759614e-06 2.327284e-04 1.151997e-05]\n",
      " [5.555505e-14 3.125547e-14 4.616214e-13 4.414750e-08 2.023396e-03\n",
      "  1.373625e-09 1.250306e-13 2.746807e-04 2.000159e-05 9.976819e-01]], shape=(10, 10), dtype=float32)\n",
      "[7 2 1 0 4 1 4 9 5 9]\n"
     ]
    }
   ],
   "source": [
    "p= probability_model(x_test[:10])\n",
    "print(p)\n",
    "v = np.argmax(p,axis=-1)\n",
    "print(v)"
   ]
  },
  {
   "cell_type": "code",
   "execution_count": 280,
   "id": "dc06e828",
   "metadata": {},
   "outputs": [],
   "source": [
    "from matplotlib import pyplot as plt\n",
    "digit=(x_train[4]*255).astype('uint8')\n"
   ]
  },
  {
   "cell_type": "code",
   "execution_count": 281,
   "id": "67199988",
   "metadata": {},
   "outputs": [
    {
     "data": {
      "text/plain": [
       "array([[  0,   0,   0,   0,   0,   0,   0,   0,   0,   0,   0,   0,   0,\n",
       "          0,   0,   0,   0,   0,   0,   0,   0,   0,   0,   0,   0,   0,\n",
       "          0,   0],\n",
       "       [  0,   0,   0,   0,   0,   0,   0,   0,   0,   0,   0,   0,   0,\n",
       "          0,   0,   0,   0,   0,   0,   0,   0,   0,   0,   0,   0,   0,\n",
       "          0,   0],\n",
       "       [  0,   0,   0,   0,   0,   0,   0,   0,   0,   0,   0,   0,   0,\n",
       "          0,   0,   0,   0,   0,   0,   0,   0,   0,   0,   0,   0,   0,\n",
       "          0,   0],\n",
       "       [  0,   0,   0,   0,   0,   0,   0,   0,   0,   0,   0,   0,   0,\n",
       "          0,   0,   0,   0,   0,   0,   0,   0,   0,   0,   0,   0,   0,\n",
       "          0,   0],\n",
       "       [  0,   0,   0,   0,   0,   0,   0,   0,   0,   0,   0,   0,   0,\n",
       "          0,   0,   0,   0,   0,   0,   0,   0,   0,   0,   0,   0,   0,\n",
       "          0,   0],\n",
       "       [  0,   0,   0,   0,   0,   0,   0,   0,   0,   0,   0,   0,   0,\n",
       "          0,   0,   0,   0,   0,   0,   0,   0,   0,   0,   0,   0,   0,\n",
       "          0,   0],\n",
       "       [  0,   0,   0,   0,   0,   0,   0,   0,   0,   0,   0,   0,   0,\n",
       "          0,   0,   0,   0,   0,   0,   0,   0,   0,   0,   0,   0,   0,\n",
       "          0,   0],\n",
       "       [  0,   0,   0,   0,   0,   0,   0,   0,   0,   0,   0,   0,  55,\n",
       "        148, 210, 253, 253, 113,  87, 148,  55,   0,   0,   0,   0,   0,\n",
       "          0,   0],\n",
       "       [  0,   0,   0,   0,   0,   0,   0,   0,   0,   0,   0,  87, 232,\n",
       "        252, 253, 189, 210, 252, 252, 253, 168,   0,   0,   0,   0,   0,\n",
       "          0,   0],\n",
       "       [  0,   0,   0,   0,   0,   0,   0,   0,   0,   4,  57, 242, 252,\n",
       "        190,  65,   5,  12, 182, 252, 253, 116,   0,   0,   0,   0,   0,\n",
       "          0,   0],\n",
       "       [  0,   0,   0,   0,   0,   0,   0,   0,   0,  96, 252, 252, 183,\n",
       "         14,   0,   0,  92, 252, 252, 225,  21,   0,   0,   0,   0,   0,\n",
       "          0,   0],\n",
       "       [  0,   0,   0,   0,   0,   0,   0,   0, 132, 253, 252, 146,  14,\n",
       "          0,   0,   0, 215, 252, 252,  79,   0,   0,   0,   0,   0,   0,\n",
       "          0,   0],\n",
       "       [  0,   0,   0,   0,   0,   0,   0, 126, 253, 247, 176,   9,   0,\n",
       "          0,   8,  78, 245, 253, 129,   0,   0,   0,   0,   0,   0,   0,\n",
       "          0,   0],\n",
       "       [  0,   0,   0,   0,   0,   0,  16, 232, 252, 176,   0,   0,   0,\n",
       "         36, 201, 252, 252, 169,  11,   0,   0,   0,   0,   0,   0,   0,\n",
       "          0,   0],\n",
       "       [  0,   0,   0,   0,   0,   0,  22, 252, 252,  30,  22, 119, 197,\n",
       "        241, 253, 252, 251,  77,   0,   0,   0,   0,   0,   0,   0,   0,\n",
       "          0,   0],\n",
       "       [  0,   0,   0,   0,   0,   0,  16, 231, 252, 253, 252, 252, 252,\n",
       "        226, 227, 252, 231,   0,   0,   0,   0,   0,   0,   0,   0,   0,\n",
       "          0,   0],\n",
       "       [  0,   0,   0,   0,   0,   0,   0,  55, 235, 253, 217, 138,  42,\n",
       "         24, 192, 252, 143,   0,   0,   0,   0,   0,   0,   0,   0,   0,\n",
       "          0,   0],\n",
       "       [  0,   0,   0,   0,   0,   0,   0,   0,   0,   0,   0,   0,   0,\n",
       "         62, 255, 253, 109,   0,   0,   0,   0,   0,   0,   0,   0,   0,\n",
       "          0,   0],\n",
       "       [  0,   0,   0,   0,   0,   0,   0,   0,   0,   0,   0,   0,   0,\n",
       "         71, 253, 252,  21,   0,   0,   0,   0,   0,   0,   0,   0,   0,\n",
       "          0,   0],\n",
       "       [  0,   0,   0,   0,   0,   0,   0,   0,   0,   0,   0,   0,   0,\n",
       "          0, 253, 252,  21,   0,   0,   0,   0,   0,   0,   0,   0,   0,\n",
       "          0,   0],\n",
       "       [  0,   0,   0,   0,   0,   0,   0,   0,   0,   0,   0,   0,   0,\n",
       "         71, 253, 252,  21,   0,   0,   0,   0,   0,   0,   0,   0,   0,\n",
       "          0,   0],\n",
       "       [  0,   0,   0,   0,   0,   0,   0,   0,   0,   0,   0,   0,   0,\n",
       "        106, 253, 252,  21,   0,   0,   0,   0,   0,   0,   0,   0,   0,\n",
       "          0,   0],\n",
       "       [  0,   0,   0,   0,   0,   0,   0,   0,   0,   0,   0,   0,   0,\n",
       "         45, 255, 253,  21,   0,   0,   0,   0,   0,   0,   0,   0,   0,\n",
       "          0,   0],\n",
       "       [  0,   0,   0,   0,   0,   0,   0,   0,   0,   0,   0,   0,   0,\n",
       "          0, 218, 252,  56,   0,   0,   0,   0,   0,   0,   0,   0,   0,\n",
       "          0,   0],\n",
       "       [  0,   0,   0,   0,   0,   0,   0,   0,   0,   0,   0,   0,   0,\n",
       "          0,  96, 252, 189,  42,   0,   0,   0,   0,   0,   0,   0,   0,\n",
       "          0,   0],\n",
       "       [  0,   0,   0,   0,   0,   0,   0,   0,   0,   0,   0,   0,   0,\n",
       "          0,  14, 184, 252, 170,  11,   0,   0,   0,   0,   0,   0,   0,\n",
       "          0,   0],\n",
       "       [  0,   0,   0,   0,   0,   0,   0,   0,   0,   0,   0,   0,   0,\n",
       "          0,   0,  14, 147, 252,  42,   0,   0,   0,   0,   0,   0,   0,\n",
       "          0,   0],\n",
       "       [  0,   0,   0,   0,   0,   0,   0,   0,   0,   0,   0,   0,   0,\n",
       "          0,   0,   0,   0,   0,   0,   0,   0,   0,   0,   0,   0,   0,\n",
       "          0,   0]], dtype=uint8)"
      ]
     },
     "execution_count": 281,
     "metadata": {},
     "output_type": "execute_result"
    }
   ],
   "source": [
    "digit\n"
   ]
  },
  {
   "cell_type": "code",
   "execution_count": 282,
   "id": "ebc1e833",
   "metadata": {},
   "outputs": [
    {
     "data": {
      "image/png": "[encoded data removed]",
      "text/plain": [
       "<Figure size 432x288 with 1 Axes>"
      ]
     },
     "metadata": {
      "needs_background": "light"
     },
     "output_type": "display_data"
    }
   ],
   "source": [
    "plt.imshow(digit, cmap=plt.cm.gray)\n",
    "plt.show()"
   ]
  },
  {
   "cell_type": "code",
   "execution_count": 283,
   "id": "4fedb327",
   "metadata": {},
   "outputs": [
    {
     "name": "stdout",
     "output_type": "stream",
     "text": [
      "7 7\n"
     ]
    },
    {
     "data": {
      "image/png": "[encoded data removed]",
      "text/plain": [
       "<Figure size 432x288 with 1 Axes>"
      ]
     },
     "metadata": {
      "needs_background": "light"
     },
     "output_type": "display_data"
    },
    {
     "name": "stdout",
     "output_type": "stream",
     "text": [
      "2 2\n"
     ]
    },
    {
     "data": {
      "image/png": "[encoded data removed]",
      "text/plain": [
       "<Figure size 432x288 with 1 Axes>"
      ]
     },
     "metadata": {
      "needs_background": "light"
     },
     "output_type": "display_data"
    },
    {
     "name": "stdout",
     "output_type": "stream",
     "text": [
      "1 1\n"
     ]
    },
    {
     "data": {
      "image/png": "[encoded data removed]",
      "text/plain": [
       "<Figure size 432x288 with 1 Axes>"
      ]
     },
     "metadata": {
      "needs_background": "light"
     },
     "output_type": "display_data"
    },
    {
     "name": "stdout",
     "output_type": "stream",
     "text": [
      "0 0\n"
     ]
    },
    {
     "data": {
      "image/png": "[encoded data removed]",
      "text/plain": [
       "<Figure size 432x288 with 1 Axes>"
      ]
     },
     "metadata": {
      "needs_background": "light"
     },
     "output_type": "display_data"
    },
    {
     "name": "stdout",
     "output_type": "stream",
     "text": [
      "4 4\n"
     ]
    },
    {
     "data": {
      "image/png": "[encoded data removed]",
      "text/plain": [
       "<Figure size 432x288 with 1 Axes>"
      ]
     },
     "metadata": {
      "needs_background": "light"
     },
     "output_type": "display_data"
    },
    {
     "name": "stdout",
     "output_type": "stream",
     "text": [
      "1 1\n"
     ]
    },
    {
     "data": {
      "image/png": "[encoded data removed]",
      "text/plain": [
       "<Figure size 432x288 with 1 Axes>"
      ]
     },
     "metadata": {
      "needs_background": "light"
     },
     "output_type": "display_data"
    },
    {
     "name": "stdout",
     "output_type": "stream",
     "text": [
      "4 4\n"
     ]
    },
    {
     "data": {
      "image/png": "[encoded data removed]",
      "text/plain": [
       "<Figure size 432x288 with 1 Axes>"
      ]
     },
     "metadata": {
      "needs_background": "light"
     },
     "output_type": "display_data"
    },
    {
     "name": "stdout",
     "output_type": "stream",
     "text": [
      "9 9\n"
     ]
    },
    {
     "data": {
      "image/png": "[encoded data removed]",
      "text/plain": [
       "<Figure size 432x288 with 1 Axes>"
      ]
     },
     "metadata": {
      "needs_background": "light"
     },
     "output_type": "display_data"
    },
    {
     "name": "stdout",
     "output_type": "stream",
     "text": [
      "5 5\n"
     ]
    },
    {
     "data": {
      "image/png": "[encoded data removed]",
      "text/plain": [
       "<Figure size 432x288 with 1 Axes>"
      ]
     },
     "metadata": {
      "needs_background": "light"
     },
     "output_type": "display_data"
    },
    {
     "name": "stdout",
     "output_type": "stream",
     "text": [
      "9 9\n"
     ]
    },
    {
     "data": {
      "image/png": "[encoded data removed]",
      "text/plain": [
       "<Figure size 432x288 with 1 Axes>"
      ]
     },
     "metadata": {
      "needs_background": "light"
     },
     "output_type": "display_data"
    }
   ],
   "source": [
    "for i in range(10):\n",
    "    plt.imshow((x_test[i]*255).astype('uint8'), cmap=plt.cm.gray)\n",
    "    print(y_test[i], v[i])\n",
    "    plt.show()"
   ]
  },
  {
   "cell_type": "code",
   "execution_count": 284,
   "id": "d9428634",
   "metadata": {},
   "outputs": [],
   "source": [
    "import matplotlib.image as img\n",
    "import cv2"
   ]
  },
  {
   "cell_type": "code",
   "execution_count": 295,
   "id": "cf741795",
   "metadata": {},
   "outputs": [
    {
     "data": {
      "image/png": "[encoded data removed]",
      "text/plain": [
       "<Figure size 432x288 with 1 Axes>"
      ]
     },
     "metadata": {
      "needs_background": "light"
     },
     "output_type": "display_data"
    }
   ],
   "source": [
    "imgname = \"b-four-fat.png\"\n",
    "image = img.imread(imgname)\n",
    "#image.resize(28,28)\n",
    "plt.imshow(image)\n",
    "plt.show()"
   ]
  },
  {
   "cell_type": "code",
   "execution_count": 296,
   "id": "89a874bf",
   "metadata": {},
   "outputs": [
    {
     "name": "stdout",
     "output_type": "stream",
     "text": [
      "(28, 28, 4) uint8\n",
      "(28, 28) uint8\n",
      "(28, 28) uint8\n",
      "tf.Tensor(\n",
      "[643   1   0   0   1   0   0   0   0   0   1   0   0   0   2   0   0   0\n",
      "   0   1   0   1   0   0   1   0   0   0   0   1   0   0   0   0   0   0\n",
      "   0   0   0   0   0   0   0   0   0   0   0   0   0   0   0   0   0   0\n",
      "   0   0   0   0   1   0   0   1   0   0   0   0   0   0   0   0   0   0\n",
      "   0   0   0   0   0   0   0   0   0   0   0   0   0   0   1   0   0   0\n",
      "   0   0   0   0   0   0   0   0   0   0   0   0   0   0   0   0   1   0\n",
      "   0   0   0   0   0   0   0   0   0   0   0   0   0   0   0   0   0   0\n",
      "   1   0   0   0   0   0   0   0   0   0   0   0   0   0   0   1   0   0\n",
      "  14   0   0   0   0   0   0   0   0   0   0   0   0   0   0   0   0   0\n",
      "   0   0   0   0   0   0   0   0   0   0   0   0   0   0   0   0   0   0\n",
      "   0   0   0   0   0   0   0   0   0   0   0   0   0   0   0   0   0   0\n",
      "   0   1   0   0   0   1   0   0   0   0   0   0   0   0   0   0   0   0\n",
      "   1   0   0   0   0   0   0   0   0   1   0   0   0   8   0   0   1   0\n",
      "   0   0   0   8   0   0   0   1   1   0   0   0   0   1   0   0   0   1\n",
      "   0   1   1  85], shape=(256,), dtype=int32)\n",
      "tf.Tensor(784, shape=(), dtype=int32)\n"
     ]
    }
   ],
   "source": [
    "myimg = cv2.imread(imgname, cv2.IMREAD_UNCHANGED)\n",
    "#img = (img*255)\n",
    "#print(img)\n",
    "print(myimg.shape, myimg.dtype)\n",
    "#print(np.max(img,axis=1))\n",
    "gray = cv2.cvtColor(myimg, cv2.COLOR_BGRA2GRAY)\n",
    "print(gray.shape, gray.dtype)\n",
    "gray28 = cv2.resize(gray, (28,28), interpolation = cv2.INTER_AREA)\n",
    "print(gray28.shape,gray28.dtype)\n",
    "print(tf.math.bincount(gray28))\n",
    "print(tf.reduce_sum(tf.math.bincount(gray28)))"
   ]
  },
  {
   "cell_type": "code",
   "execution_count": 297,
   "id": "8a7d4f42",
   "metadata": {},
   "outputs": [
    {
     "data": {
      "image/png": "[encoded data removed]",
      "text/plain": [
       "<Figure size 432x288 with 1 Axes>"
      ]
     },
     "metadata": {
      "needs_background": "light"
     },
     "output_type": "display_data"
    }
   ],
   "source": [
    "#cv2.imshow(\"Resized image\",gray28)\n",
    "#cv2.waitKey(0)\n",
    "#cv2.destroyAllWindows()\n",
    "plt.imshow(gray28, cmap=plt.cm.gray)\n",
    "plt.show()"
   ]
  },
  {
   "cell_type": "code",
   "execution_count": 298,
   "id": "caf4ade0",
   "metadata": {},
   "outputs": [
    {
     "data": {
      "text/plain": [
       "(1, 28, 28)"
      ]
     },
     "execution_count": 298,
     "metadata": {},
     "output_type": "execute_result"
    }
   ],
   "source": [
    "np.array([gray28/255.0]).shape"
   ]
  },
  {
   "cell_type": "code",
   "execution_count": 299,
   "id": "b91c1980",
   "metadata": {},
   "outputs": [
    {
     "name": "stdout",
     "output_type": "stream",
     "text": [
      "tf.Tensor(\n",
      "[[4.691113e-07 3.472961e-13 6.260726e-06 1.680604e-08 9.977996e-01\n",
      "  5.063862e-08 7.366133e-08 4.703246e-10 1.257304e-11 2.193501e-03]], shape=(1, 10), dtype=float32)\n"
     ]
    },
    {
     "data": {
      "text/plain": [
       "4"
      ]
     },
     "execution_count": 299,
     "metadata": {},
     "output_type": "execute_result"
    }
   ],
   "source": [
    "predict(np.array([gray28/255.0]))[0]"
   ]
  },
  {
   "cell_type": "code",
   "execution_count": 290,
   "id": "0f9592db",
   "metadata": {},
   "outputs": [
    {
     "data": {
      "image/png": "[encoded data removed]",
      "text/plain": [
       "<Figure size 432x288 with 1 Axes>"
      ]
     },
     "metadata": {
      "needs_background": "light"
     },
     "output_type": "display_data"
    }
   ],
   "source": [
    "plt.imshow(gray28, cmap=plt.cm.gray)\n",
    "plt.show()"
   ]
  },
  {
   "cell_type": "code",
   "execution_count": 291,
   "id": "b6d4d827",
   "metadata": {},
   "outputs": [
    {
     "data": {
      "text/plain": [
       "(1.0, 0.0)"
      ]
     },
     "execution_count": 291,
     "metadata": {},
     "output_type": "execute_result"
    }
   ],
   "source": [
    "import numpy as np\n",
    "np.max(image), np.min(image)"
   ]
  },
  {
   "cell_type": "code",
   "execution_count": 292,
   "id": "a8bdf48e",
   "metadata": {},
   "outputs": [],
   "source": [
    "image1=(image*255).astype(\"uint8\")"
   ]
  },
  {
   "cell_type": "code",
   "execution_count": 293,
   "id": "a82ab416",
   "metadata": {},
   "outputs": [
    {
     "data": {
      "image/png": "[encoded data removed]",
      "text/plain": [
       "<Figure size 432x288 with 1 Axes>"
      ]
     },
     "metadata": {
      "needs_background": "light"
     },
     "output_type": "display_data"
    }
   ],
   "source": [
    "plt.imshow(image1)\n",
    "plt.show()"
   ]
  },
  {
   "cell_type": "code",
   "execution_count": 294,
   "id": "248ef7ef",
   "metadata": {},
   "outputs": [
    {
     "data": {
      "text/plain": [
       "(255, 0, (28, 28, 4))"
      ]
     },
     "execution_count": 294,
     "metadata": {},
     "output_type": "execute_result"
    }
   ],
   "source": [
    "np.max(image1), np.min(image1), image1.shape"
   ]
  },
  {
   "cell_type": "markdown",
   "id": "a5af3201",
   "metadata": {},
   "source": [
    "用[ixartz 網頁](https://digit-recognition.ixartz.com/)製作加粗的數字，以mypredic函數辨識，只有7失敗，為什麼？"
   ]
  },
  {
   "cell_type": "code",
   "execution_count": 304,
   "id": "1515698d",
   "metadata": {},
   "outputs": [],
   "source": [
    "def mypredict(imgname):\n",
    "    myimg = cv2.imread(imgname, cv2.IMREAD_UNCHANGED)\n",
    "    gray = cv2.cvtColor(myimg, cv2.COLOR_BGRA2GRAY)\n",
    "    gray28 = cv2.resize(gray, (28,28), interpolation = cv2.INTER_AREA)\n",
    "    d = predict(np.array([gray28/255.0]))[0]\n",
    "    print(imgname, d)"
   ]
  },
  {
   "cell_type": "code",
   "execution_count": 310,
   "id": "0baac162",
   "metadata": {},
   "outputs": [
    {
     "name": "stdout",
     "output_type": "stream",
     "text": [
      "tf.Tensor(\n",
      "[[1.488304e-08 2.866563e-03 2.973377e-03 4.136656e-02 3.281711e-08\n",
      "  3.220769e-06 8.416683e-11 9.517937e-01 9.423741e-04 5.420235e-05]], shape=(1, 10), dtype=float32)\n",
      "b-seven-fat-4.png 7\n"
     ]
    }
   ],
   "source": [
    "mypredict(\"b-seven-fat-4.png\")"
   ]
  },
  {
   "cell_type": "code",
   "execution_count": 309,
   "id": "fbdb2b06",
   "metadata": {},
   "outputs": [
    {
     "name": "stdout",
     "output_type": "stream",
     "text": [
      "tf.Tensor(\n",
      "[[9.999969e-01 1.006485e-13 8.850233e-07 1.654971e-10 3.563310e-11\n",
      "  1.617526e-09 2.717087e-11 1.694719e-06 9.836841e-13 5.398788e-07]], shape=(1, 10), dtype=float32)\n",
      "b-zero-fat.png 0\n",
      "tf.Tensor(\n",
      "[[4.493842e-09 9.999813e-01 6.525779e-06 8.346554e-09 1.167135e-06\n",
      "  2.148406e-09 2.320863e-06 3.159959e-07 8.353151e-06 1.670472e-10]], shape=(1, 10), dtype=float32)\n",
      "b-one-fat.png 1\n",
      "tf.Tensor(\n",
      "[[2.745133e-10 1.585871e-08 9.999144e-01 8.541268e-05 2.457056e-19\n",
      "  3.806437e-10 1.087087e-15 5.425583e-09 8.771240e-08 3.234214e-12]], shape=(1, 10), dtype=float32)\n",
      "b-two-fat.png 2\n",
      "tf.Tensor(\n",
      "[[1.144309e-17 4.174902e-11 4.528560e-07 9.999944e-01 7.644173e-18\n",
      "  5.156086e-06 6.183043e-21 1.643421e-12 3.459816e-10 2.520641e-11]], shape=(1, 10), dtype=float32)\n",
      "b-three-fat.png 3\n",
      "tf.Tensor(\n",
      "[[4.691113e-07 3.472961e-13 6.260726e-06 1.680604e-08 9.977996e-01\n",
      "  5.063862e-08 7.366133e-08 4.703246e-10 1.257304e-11 2.193501e-03]], shape=(1, 10), dtype=float32)\n",
      "b-four-fat.png 4\n",
      "tf.Tensor(\n",
      "[[1.504847e-15 7.932203e-11 9.744486e-14 3.730675e-06 1.121205e-13\n",
      "  9.999963e-01 3.562296e-14 3.449495e-15 7.508809e-12 4.023823e-09]], shape=(1, 10), dtype=float32)\n",
      "b-five-fat.png 5\n",
      "tf.Tensor(\n",
      "[[3.132708e-05 1.722531e-14 2.146599e-06 3.452349e-08 6.306890e-06\n",
      "  1.269466e-02 8.565890e-01 4.758804e-09 1.306759e-01 6.721917e-07]], shape=(1, 10), dtype=float32)\n",
      "b-six-fat.png 6\n",
      "tf.Tensor(\n",
      "[[1.875314e-08 9.678511e-02 6.910511e-01 1.266821e-01 5.662663e-07\n",
      "  3.060102e-07 2.522597e-11 8.521920e-02 2.613647e-04 2.409822e-07]], shape=(1, 10), dtype=float32)\n",
      "b-seven-fat.png 2\n",
      "tf.Tensor(\n",
      "[[8.023184e-08 6.983575e-11 1.182484e-04 6.560732e-03 1.895329e-05\n",
      "  1.094697e-04 2.135482e-09 4.420082e-06 9.931715e-01 1.674382e-05]], shape=(1, 10), dtype=float32)\n",
      "b-eight-fat.png 8\n",
      "tf.Tensor(\n",
      "[[7.239335e-05 6.924810e-04 4.501224e-04 5.596564e-03 9.457460e-02\n",
      "  6.791911e-05 9.691444e-10 3.103888e-01 4.195914e-02 5.461980e-01]], shape=(1, 10), dtype=float32)\n",
      "b-nine-fat.png 9\n"
     ]
    }
   ],
   "source": [
    "for name in [\"b-zero-fat.png\",\"b-one-fat.png\",\"b-two-fat.png\",\"b-three-fat.png\",\"b-four-fat.png\",\"b-five-fat.png\",\"b-six-fat.png\",\"b-seven-fat.png\",\"b-eight-fat.png\",\"b-nine-fat.png\"]:\n",
    "    mypredict(name)"
   ]
  },
  {
   "cell_type": "code",
   "execution_count": null,
   "id": "3d45b636",
   "metadata": {},
   "outputs": [],
   "source": []
  }
 ],
 "metadata": {
  "kernelspec": {
   "display_name": "Python 3 (ipykernel)",
   "language": "python",
   "name": "python3"
  },
  "language_info": {
   "codemirror_mode": {
    "name": "ipython",
    "version": 3
   },
   "file_extension": ".py",
   "mimetype": "text/x-python",
   "name": "python",
   "nbconvert_exporter": "python",
   "pygments_lexer": "ipython3",
   "version": "3.10.4"
  }
 },
 "nbformat": 4,
 "nbformat_minor": 5
}
