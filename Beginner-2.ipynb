{
 "cells": [
  {
   "cell_type": "markdown",
   "id": "77a64312",
   "metadata": {},
   "source": [
    "# Save and Load Tensorflow model"
   ]
  },
  {
   "cell_type": "code",
   "execution_count": 16,
   "id": "ab2a6118",
   "metadata": {},
   "outputs": [
    {
     "name": "stdout",
     "output_type": "stream",
     "text": [
      "2.9.1\n"
     ]
    }
   ],
   "source": [
    "import os\n",
    "import numpy as np\n",
    "import cv2\n",
    "import tensorflow as tf\n",
    "from tensorflow import keras\n",
    "\n",
    "print(tf.version.VERSION)"
   ]
  },
  {
   "cell_type": "markdown",
   "id": "15f9dafa",
   "metadata": {},
   "source": [
    "[Save and Load Tensorflow model](https://www.tensorflow.org/tutorials/keras/save_and_load)"
   ]
  },
  {
   "cell_type": "code",
   "execution_count": 2,
   "id": "cee9c3b7",
   "metadata": {},
   "outputs": [],
   "source": [
    "def create_model():\n",
    "    model = tf.keras.models.Sequential([\n",
    "          tf.keras.layers.Flatten(input_shape=(28, 28)),\n",
    "          tf.keras.layers.Dense(128, activation='relu'),\n",
    "          tf.keras.layers.Dropout(0.2),\n",
    "          tf.keras.layers.Dense(10)\n",
    "    ])\n",
    "    loss_fn = tf.keras.losses.SparseCategoricalCrossentropy(from_logits=True)\n",
    "    model.compile(optimizer='adam', loss=loss_fn, metrics=['accuracy'])\n",
    "    return model"
   ]
  },
  {
   "cell_type": "code",
   "execution_count": 3,
   "id": "7887e26b",
   "metadata": {},
   "outputs": [
    {
     "name": "stdout",
     "output_type": "stream",
     "text": [
      "Model: \"sequential\"\n",
      "_________________________________________________________________\n",
      " Layer (type)                Output Shape              Param #   \n",
      "=================================================================\n",
      " flatten (Flatten)           (None, 784)               0         \n",
      "                                                                 \n",
      " dense (Dense)               (None, 128)               100480    \n",
      "                                                                 \n",
      " dropout (Dropout)           (None, 128)               0         \n",
      "                                                                 \n",
      " dense_1 (Dense)             (None, 10)                1290      \n",
      "                                                                 \n",
      "=================================================================\n",
      "Total params: 101,770\n",
      "Trainable params: 101,770\n",
      "Non-trainable params: 0\n",
      "_________________________________________________________________\n"
     ]
    }
   ],
   "source": [
    "# Create a basic model instance\n",
    "model = create_model()\n",
    "\n",
    "# Display the model's architecture\n",
    "model.summary()"
   ]
  },
  {
   "cell_type": "code",
   "execution_count": 4,
   "id": "77846368",
   "metadata": {},
   "outputs": [],
   "source": [
    "mnist = tf.keras.datasets.mnist\n",
    "\n",
    "(x_train, y_train), (x_test, y_test) = mnist.load_data()\n",
    "#print(x_train.shape,x_train.dtype)\n",
    "#print(tf.math.bincount(x_train[0]))\n",
    "#print(tf.reduce_sum(tf.math.bincount(x_train[0])))\n",
    "# input 的值調整成介於0與1之間\n",
    "x_train, x_test = x_train / 255.0, x_test / 255.0"
   ]
  },
  {
   "cell_type": "code",
   "execution_count": 5,
   "id": "2edf2f2a",
   "metadata": {},
   "outputs": [
    {
     "name": "stdout",
     "output_type": "stream",
     "text": [
      "Epoch 1/30\n",
      "1875/1875 [==============================] - 3s 1ms/step - loss: 0.2987 - accuracy: 0.9135\n",
      "Epoch 2/30\n",
      "1875/1875 [==============================] - 3s 1ms/step - loss: 0.1429 - accuracy: 0.9583\n",
      "Epoch 3/30\n",
      "1875/1875 [==============================] - 3s 1ms/step - loss: 0.1063 - accuracy: 0.9677\n",
      "Epoch 4/30\n",
      "1875/1875 [==============================] - 3s 1ms/step - loss: 0.0866 - accuracy: 0.9731\n",
      "Epoch 5/30\n",
      "1875/1875 [==============================] - 3s 1ms/step - loss: 0.0738 - accuracy: 0.9769\n",
      "Epoch 6/30\n",
      "1875/1875 [==============================] - 3s 1ms/step - loss: 0.0648 - accuracy: 0.9794\n",
      "Epoch 7/30\n",
      "1875/1875 [==============================] - 3s 1ms/step - loss: 0.0562 - accuracy: 0.9819\n",
      "Epoch 8/30\n",
      "1875/1875 [==============================] - 3s 1ms/step - loss: 0.0524 - accuracy: 0.9829\n",
      "Epoch 9/30\n",
      "1875/1875 [==============================] - 3s 1ms/step - loss: 0.0484 - accuracy: 0.9838\n",
      "Epoch 10/30\n",
      "1875/1875 [==============================] - 3s 1ms/step - loss: 0.0441 - accuracy: 0.9850\n",
      "Epoch 11/30\n",
      "1875/1875 [==============================] - 3s 1ms/step - loss: 0.0398 - accuracy: 0.9868\n",
      "Epoch 12/30\n",
      "1875/1875 [==============================] - 3s 1ms/step - loss: 0.0383 - accuracy: 0.9873\n",
      "Epoch 13/30\n",
      "1875/1875 [==============================] - 3s 1ms/step - loss: 0.0341 - accuracy: 0.9884\n",
      "Epoch 14/30\n",
      "1875/1875 [==============================] - 3s 1ms/step - loss: 0.0345 - accuracy: 0.9886\n",
      "Epoch 15/30\n",
      "1875/1875 [==============================] - 3s 1ms/step - loss: 0.0321 - accuracy: 0.9889\n",
      "Epoch 16/30\n",
      "1875/1875 [==============================] - 3s 1ms/step - loss: 0.0299 - accuracy: 0.9895\n",
      "Epoch 17/30\n",
      "1875/1875 [==============================] - 2s 1ms/step - loss: 0.0285 - accuracy: 0.9901\n",
      "Epoch 18/30\n",
      "1875/1875 [==============================] - 2s 1ms/step - loss: 0.0275 - accuracy: 0.9908\n",
      "Epoch 19/30\n",
      "1875/1875 [==============================] - 3s 1ms/step - loss: 0.0277 - accuracy: 0.9905\n",
      "Epoch 20/30\n",
      "1875/1875 [==============================] - 2s 1ms/step - loss: 0.0268 - accuracy: 0.9906\n",
      "Epoch 21/30\n",
      "1875/1875 [==============================] - 2s 1ms/step - loss: 0.0271 - accuracy: 0.9904\n",
      "Epoch 22/30\n",
      "1875/1875 [==============================] - 2s 1ms/step - loss: 0.0244 - accuracy: 0.9915\n",
      "Epoch 23/30\n",
      "1875/1875 [==============================] - 2s 1ms/step - loss: 0.0235 - accuracy: 0.9920\n",
      "Epoch 24/30\n",
      "1875/1875 [==============================] - 3s 1ms/step - loss: 0.0234 - accuracy: 0.9920\n",
      "Epoch 25/30\n",
      "1875/1875 [==============================] - 2s 1ms/step - loss: 0.0197 - accuracy: 0.9931\n",
      "Epoch 26/30\n",
      "1875/1875 [==============================] - 2s 1ms/step - loss: 0.0229 - accuracy: 0.9923\n",
      "Epoch 27/30\n",
      "1875/1875 [==============================] - 2s 1ms/step - loss: 0.0203 - accuracy: 0.9929\n",
      "Epoch 28/30\n",
      "1875/1875 [==============================] - 2s 1ms/step - loss: 0.0208 - accuracy: 0.9928\n",
      "Epoch 29/30\n",
      "1875/1875 [==============================] - 2s 1ms/step - loss: 0.0208 - accuracy: 0.9929\n",
      "Epoch 30/30\n",
      "1875/1875 [==============================] - 2s 1ms/step - loss: 0.0191 - accuracy: 0.9935\n"
     ]
    },
    {
     "data": {
      "text/plain": [
       "<keras.callbacks.History at 0x1532bdcce80>"
      ]
     },
     "execution_count": 5,
     "metadata": {},
     "output_type": "execute_result"
    }
   ],
   "source": [
    "model.fit(x_train, y_train, epochs=30)"
   ]
  },
  {
   "cell_type": "markdown",
   "id": "e7d91916",
   "metadata": {},
   "source": [
    "## model.save_weights, model.load_weights"
   ]
  },
  {
   "cell_type": "code",
   "execution_count": 6,
   "id": "e22ec078",
   "metadata": {},
   "outputs": [],
   "source": [
    "model.save_weights('./checkpoints/beginner2_checkpoint')"
   ]
  },
  {
   "cell_type": "code",
   "execution_count": 7,
   "id": "f3315814",
   "metadata": {},
   "outputs": [
    {
     "name": "stdout",
     "output_type": "stream",
     "text": [
      "313/313 - 0s - loss: 0.0867 - accuracy: 0.9813 - 426ms/epoch - 1ms/step\n"
     ]
    },
    {
     "data": {
      "text/plain": [
       "[0.08665207028388977, 0.9812999963760376]"
      ]
     },
     "execution_count": 7,
     "metadata": {},
     "output_type": "execute_result"
    }
   ],
   "source": [
    "model.evaluate(x_test,  y_test, verbose=2)"
   ]
  },
  {
   "cell_type": "code",
   "execution_count": 8,
   "id": "ba7f7268",
   "metadata": {},
   "outputs": [
    {
     "name": "stdout",
     "output_type": "stream",
     "text": [
      "313/313 - 0s - loss: 2.3405 - accuracy: 0.0996 - 440ms/epoch - 1ms/step\n"
     ]
    },
    {
     "data": {
      "text/plain": [
       "[2.340461015701294, 0.09960000216960907]"
      ]
     },
     "execution_count": 8,
     "metadata": {},
     "output_type": "execute_result"
    }
   ],
   "source": [
    "model = create_model()\n",
    "model.evaluate(x_test,  y_test, verbose=2)"
   ]
  },
  {
   "cell_type": "code",
   "execution_count": 9,
   "id": "e36bbaa0",
   "metadata": {},
   "outputs": [
    {
     "name": "stdout",
     "output_type": "stream",
     "text": [
      "313/313 - 0s - loss: 0.0867 - accuracy: 0.9813 - 298ms/epoch - 953us/step\n"
     ]
    },
    {
     "data": {
      "text/plain": [
       "[0.08665207028388977, 0.9812999963760376]"
      ]
     },
     "execution_count": 9,
     "metadata": {},
     "output_type": "execute_result"
    }
   ],
   "source": [
    "model.load_weights('./checkpoints/beginner2_checkpoint')\n",
    "model.evaluate(x_test,  y_test, verbose=2)"
   ]
  },
  {
   "cell_type": "code",
   "execution_count": 20,
   "id": "f63690e0",
   "metadata": {},
   "outputs": [],
   "source": [
    "probability_model = tf.keras.Sequential([\n",
    "  model,\n",
    "  tf.keras.layers.Softmax()\n",
    "])"
   ]
  },
  {
   "cell_type": "code",
   "execution_count": 21,
   "id": "2d9e33c3",
   "metadata": {},
   "outputs": [],
   "source": [
    "def predict(gray28s):\n",
    "    p=probability_model(gray28s)\n",
    "    print(p)\n",
    "    return np.argmax(p, axis=-1)"
   ]
  },
  {
   "cell_type": "code",
   "execution_count": 22,
   "id": "351f6423",
   "metadata": {},
   "outputs": [],
   "source": [
    "def mypredict(imgname):\n",
    "    myimg = cv2.imread(imgname, cv2.IMREAD_UNCHANGED)\n",
    "    gray = cv2.cvtColor(myimg, cv2.COLOR_BGRA2GRAY)\n",
    "    gray28 = cv2.resize(gray, (28,28), interpolation = cv2.INTER_AREA)\n",
    "    d = predict(np.array([gray28/255.0]))[0]\n",
    "    print(imgname, d)"
   ]
  },
  {
   "cell_type": "code",
   "execution_count": 24,
   "id": "df6eed63",
   "metadata": {},
   "outputs": [
    {
     "name": "stdout",
     "output_type": "stream",
     "text": [
      "tf.Tensor(\n",
      "[[1.0000000e+00 6.3833978e-19 2.3271632e-08 2.6423198e-14 2.4708245e-31\n",
      "  3.1036513e-16 7.6402338e-15 4.1588187e-13 9.1698947e-25 1.0978578e-15]], shape=(1, 10), dtype=float32)\n",
      "b-zero-fat.png 0\n",
      "tf.Tensor(\n",
      "[[7.5788743e-21 1.0000000e+00 4.1057720e-11 7.4821979e-13 3.2915878e-11\n",
      "  3.9842136e-14 8.2670530e-11 6.5367593e-11 3.4103209e-08 3.6286227e-14]], shape=(1, 10), dtype=float32)\n",
      "b-one-fat.png 1\n",
      "tf.Tensor(\n",
      "[[1.5474612e-15 1.5063457e-06 9.9999690e-01 1.5619333e-06 5.2657149e-31\n",
      "  2.8118317e-17 9.7544179e-26 2.2829725e-15 3.3958891e-11 6.2667489e-18]], shape=(1, 10), dtype=float32)\n",
      "b-two-fat.png 2\n",
      "tf.Tensor(\n",
      "[[4.4580439e-28 2.0274766e-13 7.4609185e-10 1.0000000e+00 9.1779853e-31\n",
      "  8.1636864e-10 2.6625814e-33 2.9667218e-19 4.5340381e-13 8.7716954e-18]], shape=(1, 10), dtype=float32)\n",
      "b-three-fat.png 3\n",
      "tf.Tensor(\n",
      "[[9.8806021e-14 3.1268575e-25 7.8124835e-08 8.0550279e-14 9.9999988e-01\n",
      "  2.8183723e-11 2.0920643e-08 9.9575552e-16 8.2954443e-24 5.5189950e-09]], shape=(1, 10), dtype=float32)\n",
      "b-four-fat.png 4\n",
      "tf.Tensor(\n",
      "[[4.2279945e-28 7.5806537e-17 3.1876395e-19 3.0837676e-11 0.0000000e+00\n",
      "  1.0000000e+00 1.1833540e-25 1.5753363e-28 3.0273200e-22 2.5453222e-23]], shape=(1, 10), dtype=float32)\n",
      "b-five-fat.png 5\n",
      "tf.Tensor(\n",
      "[[8.1220479e-09 2.1074165e-21 1.9393278e-08 2.9115949e-10 3.4654237e-09\n",
      "  5.1416468e-02 6.6493613e-01 7.3578608e-11 2.8364736e-01 7.9890228e-09]], shape=(1, 10), dtype=float32)\n",
      "b-six-fat.png 6\n",
      "tf.Tensor(\n",
      "[[6.3019861e-14 1.4737510e-03 8.1899893e-01 9.9633196e-03 2.0992441e-15\n",
      "  1.6696754e-14 1.7591545e-18 1.6956399e-01 1.7950406e-08 1.0961127e-12]], shape=(1, 10), dtype=float32)\n",
      "b-seven-fat.png 2\n",
      "tf.Tensor(\n",
      "[[1.0448882e-15 4.3664849e-04 5.6407412e-06 2.3005535e-04 1.9801481e-14\n",
      "  6.9849547e-12 2.6206318e-16 9.9932778e-01 9.9834585e-10 2.3941330e-11]], shape=(1, 10), dtype=float32)\n",
      "b-seven-fat-4.png 7\n",
      "tf.Tensor(\n",
      "[[1.3946610e-06 7.4368614e-08 1.6563715e-02 6.2999256e-02 1.4018154e-09\n",
      "  4.2919331e-04 6.4094929e-05 3.2309271e-09 9.1993886e-01 3.4230202e-06]], shape=(1, 10), dtype=float32)\n",
      "b-eight-fat.png 8\n",
      "tf.Tensor(\n",
      "[[8.7276124e-09 2.5591748e-06 8.3660372e-05 6.8994246e-02 5.5748052e-07\n",
      "  3.9423652e-05 1.9432309e-12 2.2995869e-02 7.4842057e-05 9.0780878e-01]], shape=(1, 10), dtype=float32)\n",
      "b-nine-fat.png 9\n"
     ]
    }
   ],
   "source": [
    "for name in [\"b-zero-fat.png\",\"b-one-fat.png\",\"b-two-fat.png\",\"b-three-fat.png\",\"b-four-fat.png\",\"b-five-fat.png\",\n",
    "             \"b-six-fat.png\",\"b-seven-fat.png\",\"b-seven-fat-4.png\",\"b-eight-fat.png\",\"b-nine-fat.png\"]:\n",
    "    mypredict(name)"
   ]
  },
  {
   "cell_type": "code",
   "execution_count": 25,
   "id": "ccc2ceed",
   "metadata": {},
   "outputs": [
    {
     "name": "stdout",
     "output_type": "stream",
     "text": [
      "tf.Tensor(\n",
      "[[7.5443054e-08 8.0704223e-07 4.9037926e-02 5.1037267e-02 3.2461307e-17\n",
      "  3.7588404e-07 8.0255776e-18 8.9564675e-01 4.1999338e-05 4.2348043e-03]], shape=(1, 10), dtype=float32)\n",
      "b-seven-fat-5.png 7\n"
     ]
    }
   ],
   "source": [
    "mypredict(\"b-seven-fat-5.png\")"
   ]
  },
  {
   "cell_type": "code",
   "execution_count": 26,
   "id": "3431a20d",
   "metadata": {},
   "outputs": [
    {
     "name": "stdout",
     "output_type": "stream",
     "text": [
      "tf.Tensor(\n",
      "[[1.52254769e-13 4.17352858e-04 2.27312703e-05 9.54105258e-01\n",
      "  1.28128566e-08 2.06586779e-11 3.01294207e-08 4.54511233e-02\n",
      "  1.93705068e-06 1.59269985e-06]], shape=(1, 10), dtype=float32)\n",
      "b-nine-fat-2.png 3\n"
     ]
    }
   ],
   "source": [
    "mypredict(\"b-nine-fat-2.png\")"
   ]
  },
  {
   "cell_type": "code",
   "execution_count": 27,
   "id": "22f5c6fe",
   "metadata": {},
   "outputs": [
    {
     "name": "stdout",
     "output_type": "stream",
     "text": [
      "tf.Tensor(\n",
      "[[7.2808967e-14 3.8482364e-16 1.4957824e-09 3.8481790e-08 6.8865722e-09\n",
      "  1.2202889e-09 1.4048791e-16 1.0853518e-03 6.5921868e-10 9.9891460e-01]], shape=(1, 10), dtype=float32)\n",
      "b-nine-fat-3.png 9\n"
     ]
    }
   ],
   "source": [
    "mypredict(\"b-nine-fat-3.png\")"
   ]
  },
  {
   "cell_type": "code",
   "execution_count": 29,
   "id": "26b41d25",
   "metadata": {},
   "outputs": [
    {
     "name": "stdout",
     "output_type": "stream",
     "text": [
      "tf.Tensor(\n",
      "[[2.29579072e-21 2.76885472e-33 7.64476186e-18 3.49862805e-09\n",
      "  8.61750907e-15 1.05085993e-08 1.04361139e-19 1.00657625e-11\n",
      "  1.09710186e-06 9.99998927e-01]], shape=(1, 10), dtype=float32)\n",
      "b-nine-fat-5.png 9\n"
     ]
    }
   ],
   "source": [
    "mypredict(\"b-nine-fat-5.png\")"
   ]
  },
  {
   "cell_type": "code",
   "execution_count": 31,
   "id": "a7f15cfc",
   "metadata": {},
   "outputs": [
    {
     "name": "stdout",
     "output_type": "stream",
     "text": [
      "tf.Tensor(\n",
      "[[2.5210991e-15 1.3499187e-18 3.8782567e-02 9.6110475e-01 1.4307099e-37\n",
      "  1.1246540e-04 7.7302298e-26 1.8732242e-20 6.4795138e-08 1.1882284e-15]], shape=(1, 10), dtype=float32)\n",
      "b-three-5w.jpg 3\n"
     ]
    }
   ],
   "source": [
    "mypredict(\"b-three-5w.jpg\")"
   ]
  },
  {
   "cell_type": "markdown",
   "id": "2fc35fc4",
   "metadata": {},
   "source": [
    "## 用 draw.html 可以製作數字檔案，複製貼上小畫家比直接存檔好\n",
    "draw.html 從[這個gist](https://gist.github.com/bencentra/91350fe91c377c1ca574)修改而得。"
   ]
  },
  {
   "cell_type": "code",
   "execution_count": null,
   "id": "819629b9",
   "metadata": {},
   "outputs": [],
   "source": []
  }
 ],
 "metadata": {
  "kernelspec": {
   "display_name": "Python 3 (ipykernel)",
   "language": "python",
   "name": "python3"
  },
  "language_info": {
   "codemirror_mode": {
    "name": "ipython",
    "version": 3
   },
   "file_extension": ".py",
   "mimetype": "text/x-python",
   "name": "python",
   "nbconvert_exporter": "python",
   "pygments_lexer": "ipython3",
   "version": "3.10.4"
  }
 },
 "nbformat": 4,
 "nbformat_minor": 5
}
