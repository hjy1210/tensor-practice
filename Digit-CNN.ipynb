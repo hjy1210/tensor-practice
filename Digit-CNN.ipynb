{
 "cells": [
  {
   "cell_type": "code",
   "execution_count": null,
   "id": "022fdbb4",
   "metadata": {},
   "outputs": [],
   "source": [
    "import tensorflow as tf\n",
    "print(\"TensorFlow version:\", tf.__version__)\n",
    "import numpy as np\n",
    "from matplotlib import pyplot as plt\n"
   ]
  },
  {
   "cell_type": "code",
   "execution_count": null,
   "id": "c0792b85",
   "metadata": {},
   "outputs": [],
   "source": [
    "mnist = tf.keras.datasets.mnist\n",
    "(x_train, y_train), (x_test, y_test) = mnist.load_data()\n",
    "x_train=np.reshape(x_train, x_train.shape+(1,))\n",
    "x_test=np.reshape(x_test, x_test.shape+(1,))\n",
    "x_train, x_test = x_train / 255.0, x_test / 255.0"
   ]
  },
  {
   "cell_type": "code",
   "execution_count": null,
   "id": "a9dcc9a0",
   "metadata": {},
   "outputs": [],
   "source": [
    "print(x_train.shape, y_train.shape)"
   ]
  },
  {
   "cell_type": "code",
   "execution_count": null,
   "id": "435dd28b",
   "metadata": {},
   "outputs": [],
   "source": [
    "def create_model():\n",
    "    model = tf.keras.models.Sequential([\n",
    "        tf.keras.layers.Conv2D(input_shape= [28, 28, 1], kernel_size= 5, filters= 8, strides= 1, \n",
    "                   activation= 'relu',  kernel_initializer= 'variance_scaling'),\n",
    "        tf.keras.layers.MaxPooling2D(pool_size= [2, 2], strides= [2, 2]),\n",
    "        tf.keras.layers.Conv2D(kernel_size= 5, filters= 16, strides= 1, activation= 'relu', kernel_initializer= 'variance_scaling'),\n",
    "        tf.keras.layers.MaxPooling2D(pool_size= [2, 2], strides= [2, 2]),\n",
    "        tf.keras.layers.Flatten(),\n",
    "        #tf.keras.layers.Dense(units= 128, kernel_initializer= 'variance_scaling', activation= 'relu'),\n",
    "        tf.keras.layers.Dense(units= 10, kernel_initializer= 'variance_scaling', activation= 'softmax')\n",
    "    ])\n",
    "    model.compile(optimizer = 'adam', \n",
    "                  loss = tf.keras.losses.SparseCategoricalCrossentropy(from_logits=False), \n",
    "                  metrics = ['accuracy'])\n",
    "    return model"
   ]
  },
  {
   "cell_type": "code",
   "execution_count": null,
   "id": "608c4b21",
   "metadata": {},
   "outputs": [],
   "source": [
    "model = create_model()"
   ]
  },
  {
   "cell_type": "code",
   "execution_count": null,
   "id": "108a2157",
   "metadata": {},
   "outputs": [],
   "source": [
    "model.summary()"
   ]
  },
  {
   "cell_type": "code",
   "execution_count": null,
   "id": "e369f3dd",
   "metadata": {},
   "outputs": [],
   "source": [
    "model.fit(x_train, y_train, epochs=30)"
   ]
  },
  {
   "cell_type": "code",
   "execution_count": null,
   "id": "b19edffa",
   "metadata": {},
   "outputs": [],
   "source": [
    "model.evaluate(x_test,  y_test, verbose=2)"
   ]
  },
  {
   "cell_type": "code",
   "execution_count": null,
   "id": "15d46870",
   "metadata": {},
   "outputs": [],
   "source": [
    "def modelpredict(model, gray28s, print=False):\n",
    "    p=model(gray28s)\n",
    "    if print:\n",
    "        print(p)\n",
    "    return np.argmax(p, axis=-1)"
   ]
  },
  {
   "cell_type": "code",
   "execution_count": null,
   "id": "a49821b8",
   "metadata": {},
   "outputs": [],
   "source": [
    "start = 1000\n",
    "v = modelpredict(model, x_test[start:(start+10)])\n",
    "for i in range(start,start+10):\n",
    "    plt.imshow((x_test[i]*255).astype('uint8'), cmap=plt.cm.gray)\n",
    "    print(y_test[i], v[i-start])\n",
    "    plt.show()"
   ]
  },
  {
   "cell_type": "code",
   "execution_count": null,
   "id": "240cd997",
   "metadata": {},
   "outputs": [],
   "source": [
    "def modelpredictfile(model,imgname):\n",
    "    myimg = cv2.imread(imgname, cv2.IMREAD_UNCHANGED)\n",
    "    gray = cv2.cvtColor(myimg, cv2.COLOR_BGRA2GRAY)\n",
    "    gray28 = cv2.resize(gray, (28,28), interpolation = cv2.INTER_AREA)\n",
    "    gray28 = np.reshape(gray28, (28,28,1))\n",
    "    d = modelpredict(model, np.array([gray28/255.0]))[0]\n",
    "    print(imgname, d)"
   ]
  },
  {
   "cell_type": "code",
   "execution_count": null,
   "id": "d70fad42",
   "metadata": {},
   "outputs": [],
   "source": [
    "import cv2"
   ]
  },
  {
   "cell_type": "code",
   "execution_count": null,
   "id": "71f7b7f1",
   "metadata": {},
   "outputs": [],
   "source": [
    "for name in [\"b-eight.png\",\"b-five-fat.png\",\"b-four-1.png\",\"b-four-fat.png\",\"b-four.png\",\"b-nine-fat-2.png\",\"b-nine-fat-3.png\",\n",
    "    \"b-nine-fat-4.png\",\"b-nine-fat-5.png\",\"b-nine-fat.png\",\"b-one-fat.png\",\"b-seven-fat-2.png\",\"b-seven-fat-3.png\",\n",
    "    \"b-seven-fat-4.png\",\"b-seven-fat-5.png\",\"b-seven-fat.png\",\"b-six-1.png\",\"b-six-2.png\",\"b-six-fat.png\",\"b-six.png\",\n",
    "    \"b-three-fat.png\",\"b-three.png\",\"b-two-fat.png\",\"b-zero-fat.png\"]:\n",
    "    modelpredictfile(model, name)\n"
   ]
  },
  {
   "cell_type": "code",
   "execution_count": null,
   "id": "2f2e6387",
   "metadata": {},
   "outputs": [],
   "source": [
    "import tensorflowjs as tfjs"
   ]
  },
  {
   "cell_type": "code",
   "execution_count": null,
   "id": "4d931f25",
   "metadata": {},
   "outputs": [],
   "source": [
    "tfjs.converters.save_keras_model(model, \"Saved_Model/digit_cnn_model\")"
   ]
  },
  {
   "cell_type": "code",
   "execution_count": null,
   "id": "94b97f5b",
   "metadata": {},
   "outputs": [],
   "source": []
  }
 ],
 "metadata": {
  "kernelspec": {
   "display_name": "Python 3",
   "language": "python",
   "name": "python3"
  },
  "language_info": {
   "codemirror_mode": {
    "name": "ipython",
    "version": 3
   },
   "file_extension": ".py",
   "mimetype": "text/x-python",
   "name": "python",
   "nbconvert_exporter": "python",
   "pygments_lexer": "ipython3",
   "version": "3.6.8"
  }
 },
 "nbformat": 4,
 "nbformat_minor": 5
}
